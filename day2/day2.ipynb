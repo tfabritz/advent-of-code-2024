{
 "cells": [
  {
   "cell_type": "code",
   "execution_count": null,
   "metadata": {},
   "outputs": [],
   "source": []
  },
  {
   "cell_type": "code",
   "execution_count": null,
   "metadata": {},
   "outputs": [],
   "source": [
    "with open(\"input.txt\") as f:\n",
    "    lines = f.readlines()\n",
    "lines = [l.strip() for l in lines]\n",
    "lines[:5]"
   ]
  },
  {
   "cell_type": "code",
   "execution_count": null,
   "metadata": {},
   "outputs": [],
   "source": [
    "levels = []\n",
    "for l in lines:\n",
    "    levels.append([int(n) for n in l.split()])\n",
    "# levels"
   ]
  },
  {
   "cell_type": "code",
   "execution_count": null,
   "metadata": {},
   "outputs": [],
   "source": [
    "safe_counter = 0\n",
    "for level in levels:\n",
    "    #print(level)\n",
    "    dir = level[0] < level[1]\n",
    "    safe = True\n",
    "    for i in range(1, len(level)):\n",
    "        if (level[i-1] < level[i]) != dir:\n",
    "            # print(level[i-1] < level[i])\n",
    "            safe = False\n",
    "            break\n",
    "        diff = level[i] - level[i-1]\n",
    "        # print(diff)\n",
    "        if abs(diff) < 1 or abs(diff) > 3:\n",
    "            safe = False\n",
    "            break\n",
    "    \n",
    "    #print(safe)\n",
    "    #if safe_counter == 10:\n",
    "    #    break\n",
    "    if safe:\n",
    "        safe_counter += 1\n",
    "safe_counter\n"
   ]
  },
  {
   "cell_type": "code",
   "execution_count": null,
   "metadata": {},
   "outputs": [],
   "source": [
    "# part 2"
   ]
  },
  {
   "cell_type": "code",
   "execution_count": null,
   "metadata": {},
   "outputs": [],
   "source": [
    "def level_safe(level):\n",
    "    dir = level[0] < level[1]\n",
    "    safe = True\n",
    "    for i in range(1, len(level)):\n",
    "        if (level[i-1] < level[i]) != dir:\n",
    "            # print(level[i-1] < level[i])\n",
    "            safe = False\n",
    "            break\n",
    "        diff = level[i] - level[i-1]\n",
    "        # print(diff)\n",
    "        if abs(diff) < 1 or abs(diff) > 3:\n",
    "            safe = False\n",
    "            break\n",
    "    \n",
    "    return safe\n",
    "\n",
    "\n",
    "safe_counter = 0\n",
    "for level in levels:\n",
    "    #print(level)\n",
    "    \n",
    "    safe = level_safe(level)\n",
    "    if not safe:\n",
    "        for i in range(0, len(level)):\n",
    "            new_level = level[:i] + level[i+1:]\n",
    "            new_safe = level_safe(new_level)\n",
    "            if new_safe:\n",
    "                safe = True\n",
    "                break\n",
    "        \n",
    "    #print(safe)\n",
    "    #if safe_counter == 10:\n",
    "    #    break\n",
    "    if safe:\n",
    "        safe_counter += 1\n",
    "safe_counter"
   ]
  }
 ],
 "metadata": {
  "kernelspec": {
   "display_name": ".venv",
   "language": "python",
   "name": "python3"
  },
  "language_info": {
   "codemirror_mode": {
    "name": "ipython",
    "version": 3
   },
   "file_extension": ".py",
   "mimetype": "text/x-python",
   "name": "python",
   "nbconvert_exporter": "python",
   "pygments_lexer": "ipython3",
   "version": "3.13.0"
  }
 },
 "nbformat": 4,
 "nbformat_minor": 2
}
