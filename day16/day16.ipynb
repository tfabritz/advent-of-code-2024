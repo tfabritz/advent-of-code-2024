{
 "cells": [
  {
   "cell_type": "code",
   "execution_count": 40,
   "metadata": {},
   "outputs": [],
   "source": [
    "import heapq"
   ]
  },
  {
   "cell_type": "code",
   "execution_count": null,
   "metadata": {},
   "outputs": [],
   "source": [
    "with open(\"input-example.txt\") as f:\n",
    "    lines = f.readlines()\n",
    "lines = [l.strip() for l in lines]\n",
    "lines[:5]"
   ]
  },
  {
   "cell_type": "code",
   "execution_count": 42,
   "metadata": {},
   "outputs": [],
   "source": [
    "start_node = (0, 0)\n",
    "target_node = (0, 0)\n",
    "for i in range(0, len(lines)):\n",
    "    for j in range(0, len(lines[0])):\n",
    "        if lines[i][j] == \"E\":\n",
    "            target_node = (i, j)\n",
    "        if lines[i][j] == \"S\":\n",
    "            start_node = (i, j)"
   ]
  },
  {
   "cell_type": "code",
   "execution_count": 43,
   "metadata": {},
   "outputs": [],
   "source": [
    "dirs = [(-1, 0), (0, 1), (1, 0), (0, -1)]\n",
    "\n",
    "# Get dirs to turn to (180 makes no sense)\n",
    "turn_dict = {\n",
    "    (-1, 0): [(0, -1), (0, 1)],\n",
    "    (0, 1): [(-1, 0), (1, 0)],\n",
    "    (1, 0): [(0, 1), (0, -1)],\n",
    "    (0, -1): [(1, 0), (-1, 0)],\n",
    "}\n",
    "\n",
    "\n",
    "def walk(pos, dir):\n",
    "    return (pos[0] + dir[0], pos[1] + dir[1])\n",
    "\n",
    "\n",
    "def in_bounds(pos, field):\n",
    "    return (\n",
    "        pos[0] >= 0 and pos[0] < len(field) and pos[1] >= 0 and pos[1] < len(field[0])\n",
    "    )\n",
    "\n",
    "\n",
    "def print_field(\n",
    "    field,\n",
    "):\n",
    "    i = 0\n",
    "    for l in field:\n",
    "        j = 0\n",
    "        for p in l:\n",
    "            print(p, end=\"\")\n",
    "            j += 1\n",
    "        print()\n",
    "        i += 1"
   ]
  },
  {
   "cell_type": "code",
   "execution_count": 44,
   "metadata": {},
   "outputs": [],
   "source": [
    "facing = (0, 1)\n",
    "\n",
    "# Nodes are always position and facing direction \n",
    "start = (start_node, facing)\n",
    "\n",
    "visited_nodes = set()"
   ]
  },
  {
   "cell_type": "code",
   "execution_count": 45,
   "metadata": {},
   "outputs": [],
   "source": [
    "# Dijkstra with cost increase of 1000 when adding a neighbor node after a turn\n",
    "# We ignore 180 Degree turns as they are always longer and make no sense to add to the graph\n",
    "def dijkstra(start, target, field):\n",
    "    priority_queue = []\n",
    "    heapq.heappush(priority_queue, (0, start))\n",
    "    prev_nodes = {}\n",
    "    distances = {}\n",
    "\n",
    "    distances[start[0]] = 0\n",
    "    prev_nodes[start[0]] = None\n",
    "\n",
    "    while priority_queue:\n",
    "        current_distance, current_node = heapq.heappop(priority_queue)\n",
    "\n",
    "        if current_node[0] == target:\n",
    "            break\n",
    "\n",
    "        if current_distance > distances.get(current_node, float('inf')):\n",
    "            continue\n",
    "\n",
    "        # Get neighbours\n",
    "        neighbours = []\n",
    "        # print(current_node)\n",
    "        next_node = walk(current_node[0], current_node[1])\n",
    "        if field[next_node[0]][next_node[1]] != '#':\n",
    "            neighbours.append((1, (next_node, current_node[1])))\n",
    "        \n",
    "        turn_dirs = turn_dict[current_node[1]]\n",
    "        for turn_dir in turn_dirs:\n",
    "            next_node = walk(current_node[0], turn_dir)\n",
    "            if field[next_node[0]][next_node[1]] != '#':\n",
    "                neighbours.append((1001, (next_node, turn_dir)))\n",
    "\n",
    "        for weight, neighbor in neighbours:\n",
    "            distance = current_distance + weight\n",
    "            if distance < distances.get(neighbor[0], float('inf')):\n",
    "                distances[neighbor[0]] = distance\n",
    "                prev_nodes[start[0]] = current_node[0]\n",
    "                heapq.heappush(priority_queue, (distance, neighbor))\n",
    "\n",
    "    return distances, prev_nodes\n",
    "\n",
    "\n",
    "distances, prev_nodes = dijkstra(start, target_node, lines)\n",
    "# print(distances, prev_nodes)"
   ]
  },
  {
   "cell_type": "code",
   "execution_count": null,
   "metadata": {},
   "outputs": [],
   "source": [
    "distances[target_node]"
   ]
  },
  {
   "cell_type": "code",
   "execution_count": 47,
   "metadata": {},
   "outputs": [],
   "source": [
    "# part 2"
   ]
  },
  {
   "cell_type": "code",
   "execution_count": null,
   "metadata": {},
   "outputs": [],
   "source": [
    "# Modify to keep multiple short paths\n",
    "# Instead of only keeping coordinate as key, keep coordinate and direction facing when entering the tile \n",
    "# as those are technically different nodes in a graph as a required turn increases cost\n",
    "# Then keep a set of all predecessors that have the same dist\n",
    "def dijkstra_mod(start, target, field):\n",
    "    priority_queue = []\n",
    "    heapq.heappush(priority_queue, (0, start))\n",
    "    prev_nodes = {}\n",
    "    distances = {}\n",
    "\n",
    "    distances[start] = 0\n",
    "    prev_nodes[start] = None\n",
    "\n",
    "    while priority_queue:\n",
    "        current_distance, current_node = heapq.heappop(priority_queue)\n",
    "        \n",
    "        if current_node[0] == target:\n",
    "            break\n",
    "\n",
    "        if current_distance > distances.get(current_node, float('inf')):\n",
    "            continue\n",
    "\n",
    "        # Get neighbours \n",
    "        neighbours = []\n",
    "        # When walking straight\n",
    "        next_node = walk(current_node[0], current_node[1])\n",
    "        if field[next_node[0]][next_node[1]] != '#':\n",
    "            neighbours.append((1, (next_node, current_node[1])))\n",
    "        # Or turning with cost + 1000 and direction after turn as next node\n",
    "        turn_dirs = turn_dict[current_node[1]]\n",
    "        for turn_dir in turn_dirs:\n",
    "            next_node = walk(current_node[0], turn_dir)\n",
    "            if field[next_node[0]][next_node[1]] != '#':\n",
    "                neighbours.append((1001, (next_node, turn_dir)))\n",
    "\n",
    "        for weight, neighbor in neighbours:\n",
    "            distance = current_distance + weight\n",
    "            if distance <= distances.get(neighbor, float('inf')):\n",
    "                distances[neighbor] = distance\n",
    "                if neighbor not in prev_nodes:\n",
    "                    prev_nodes[neighbor] = set()\n",
    "                # If a shorter node is found, reset\n",
    "                if distance < distances.get(neighbor, float('inf')):\n",
    "                    prev_nodes[neighbor] = set()\n",
    "                # Add predecessor, if not reset this means equal len pred found\n",
    "                prev_nodes[neighbor].add(current_node)\n",
    "                heapq.heappush(priority_queue, (distance, neighbor))\n",
    "\n",
    "    return distances, prev_nodes\n",
    "\n",
    "\n",
    "distances, prev_nodes = dijkstra_mod(start, target_node, lines)\n",
    "[(k,v) for k,v in distances.items() if k[0] == target_node]"
   ]
  },
  {
   "cell_type": "code",
   "execution_count": null,
   "metadata": {},
   "outputs": [],
   "source": [
    "# From the example, this should have 2 predecessors\n",
    "# Both are from (7,15) but one needs to turn, because it has direction (-1,0) (trying to walk to the right) depending from where (7,15) was entered\n",
    "# If only fields without direction are considered, they would differ in cost by 1k because of the not considered turn\n",
    "# But with direction, they have the same cost connecting them to (6,15)\n",
    "[(k,v) for k,v in prev_nodes.items() if k[0] == (6,15)]"
   ]
  },
  {
   "cell_type": "code",
   "execution_count": null,
   "metadata": {},
   "outputs": [],
   "source": [
    "# (6,15) has only one distance\n",
    "[(k,v) for k,v in distances.items() if k[0] == (6,15)]"
   ]
  },
  {
   "cell_type": "code",
   "execution_count": null,
   "metadata": {},
   "outputs": [],
   "source": [
    "# but (7,15) has two distances differing by 1000 cost but with different directions\n",
    "# When processing the next node (6,15), one gets +1 the other +1001, so they are both valid predecessors\n",
    "# if checking fields before that, so (8,15) and (7,14), they have the same distances again (and another entry from turning away from the target during the algorithm)\n",
    "[(k,v) for k,v in distances.items() if k[0] == (7,15)]"
   ]
  },
  {
   "cell_type": "code",
   "execution_count": 52,
   "metadata": {},
   "outputs": [],
   "source": [
    "# Expand all previous nodes until everything is expanded and return all distinct found nodes\n",
    "def get_path(target, prev_nodes):\n",
    "    expanding_nodes = [(k) for k,v in distances.items() if k[0] == target]\n",
    "    prevs = []\n",
    "    while expanding_nodes:\n",
    "        # print(expanding_nodes)\n",
    "        n = expanding_nodes.pop()\n",
    "\n",
    "        prev = prev_nodes[n]\n",
    "        if not prev:\n",
    "            continue\n",
    "        prevs.append(n)\n",
    "        expanding_nodes += prev_nodes[n]\n",
    "    return {n[0] for n in prevs}\n",
    "# get_path(target_node, prev_nodes)"
   ]
  },
  {
   "cell_type": "code",
   "execution_count": null,
   "metadata": {},
   "outputs": [],
   "source": [
    "# Places to sit at\n",
    "len(get_path(target_node, prev_nodes)) + 1 # Start node needs to be considered"
   ]
  },
  {
   "cell_type": "code",
   "execution_count": null,
   "metadata": {},
   "outputs": [],
   "source": [
    "def print_maze(\n",
    "    field, path_nodes\n",
    "):\n",
    "    i = 0\n",
    "    for l in field:\n",
    "        j = 0\n",
    "        for p in l:\n",
    "            if (i,j) in path_nodes and p not in ['S', 'E']:\n",
    "                print(\"O\", end=\"\")\n",
    "            else: \n",
    "                print(p, end=\"\")\n",
    "            j += 1\n",
    "        print()\n",
    "        i += 1\n",
    "print_maze(lines, get_path(target_node, prev_nodes))"
   ]
  }
 ],
 "metadata": {
  "kernelspec": {
   "display_name": ".venv",
   "language": "python",
   "name": "python3"
  },
  "language_info": {
   "codemirror_mode": {
    "name": "ipython",
    "version": 3
   },
   "file_extension": ".py",
   "mimetype": "text/x-python",
   "name": "python",
   "nbconvert_exporter": "python",
   "pygments_lexer": "ipython3",
   "version": "3.13.1"
  }
 },
 "nbformat": 4,
 "nbformat_minor": 2
}
