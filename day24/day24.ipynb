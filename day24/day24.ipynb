{
 "cells": [
  {
   "cell_type": "code",
   "execution_count": 1,
   "metadata": {},
   "outputs": [],
   "source": [
    "from copy import deepcopy\n",
    "from sympy import sympify"
   ]
  },
  {
   "cell_type": "code",
   "execution_count": null,
   "metadata": {},
   "outputs": [],
   "source": [
    "with open(\"input.txt\") as f:\n",
    "    lines = f.readlines()\n",
    "lines = [l.strip() for l in lines]\n",
    "lines[:5]"
   ]
  },
  {
   "cell_type": "code",
   "execution_count": 3,
   "metadata": {},
   "outputs": [],
   "source": [
    "start_vals = {}\n",
    "equations = []\n",
    "first = True\n",
    "for line in lines:\n",
    "    if len(line) == 0:\n",
    "        first = False\n",
    "        continue\n",
    "\n",
    "    if first:\n",
    "        spl = line.split(\":\")\n",
    "        start_vals[spl[0]] = bool(int(spl[1].strip()))\n",
    "    else:\n",
    "        spl = [s.strip() for s in line.split(\"->\")]\n",
    "        res = spl[1]\n",
    "        eq = spl[0].split()\n",
    "        variables = [eq[0], eq[2]]\n",
    "        operator = eq[1]\n",
    "        equations.append(\n",
    "            {\n",
    "                \"variables\": variables,\n",
    "                \"operator\": operator,\n",
    "                \"result\": res,\n",
    "                \"solved\": False,\n",
    "            }\n",
    "        )\n",
    "\n",
    "# equations"
   ]
  },
  {
   "cell_type": "code",
   "execution_count": null,
   "metadata": {},
   "outputs": [],
   "source": [
    "values = deepcopy(start_vals)\n",
    "open_equations = deepcopy(equations)\n",
    "# Replace newly computed values in equations until all are solved\n",
    "while open_equations:\n",
    "    for eq in open_equations:\n",
    "        if all([v in values for v in eq[\"variables\"]]):\n",
    "            # print(eq)\n",
    "            if eq[\"operator\"] == \"AND\":\n",
    "                values[eq[\"result\"]] = (\n",
    "                    values[eq[\"variables\"][0]] and values[eq[\"variables\"][1]]\n",
    "                )\n",
    "                eq[\"solved\"] = True\n",
    "            elif eq[\"operator\"] == \"OR\":\n",
    "                values[eq[\"result\"]] = (\n",
    "                    values[eq[\"variables\"][0]] or values[eq[\"variables\"][1]]\n",
    "                )\n",
    "                eq[\"solved\"] = True\n",
    "            elif eq[\"operator\"] == \"XOR\":\n",
    "                values[eq[\"result\"]] = (\n",
    "                    values[eq[\"variables\"][0]] != values[eq[\"variables\"][1]]\n",
    "                )\n",
    "                eq[\"solved\"] = True\n",
    "    open_equations = [e for e in open_equations if not e[\"solved\"]]\n",
    "\n",
    "# values\n",
    "z_outputs = sorted([(k, v) for k, v in values.items() if k.startswith(\"z\")])\n",
    "binary_output = \"\".join(reversed([\"1\" if b[1] else \"0\" for b in z_outputs]))\n",
    "print(binary_output)\n",
    "print(int(binary_output, 2))"
   ]
  },
  {
   "cell_type": "code",
   "execution_count": 5,
   "metadata": {},
   "outputs": [],
   "source": [
    "# part 2\n",
    "\n",
    "# The idea is to simplify the equations as they are all the same on every level just with different numbers.\n",
    "# And then by hand search the needed replacements using the printed output\n",
    "# This means we need to resolve each equation resulting in zXX to only base vars\n",
    "# And then print it somewhat sorted. As I did not want to implement that sorting part, I use sympy, read the equation and then print it\n",
    "# This prints it sorted\n",
    "# Then I replace all the carry overs recursively from start up to the latest equation\n",
    "# It is easy to spot the first problematic equation in the output\n",
    "# Then look in the output for something that resembles what we need\n",
    "# Equations always need to start like this z05 = x05 ^ y05 ^ ((x04 & y04) | (c04))\n",
    "# Then use the code snippets below to search for nodes that match this pattern and switch them and watch the output again\n",
    "# Not beautiful, but works :)\n",
    "\n",
    "# My first problematic line is z11 = x11 & y11\n",
    "# So I search for an equation that has x11 XOR y11\n",
    "# And then look at the parent of that that also uses an xor\n",
    "# And then I switch those 2"
   ]
  },
  {
   "cell_type": "code",
   "execution_count": null,
   "metadata": {},
   "outputs": [],
   "source": [
    "# Resolve an equation to only base variables\n",
    "def resolve_eq(res, equations):\n",
    "    if res.startswith(\"x\") or res.startswith(\"y\"):\n",
    "        return f\"{res}\"\n",
    "\n",
    "    eq = [eq for eq in equations if eq[\"result\"] == res][0]\n",
    "    vrs = sorted(eq[\"variables\"])\n",
    "    return f'({resolve_eq(vrs[0], equations)} {eq[\"operator\"]} {resolve_eq(vrs[1], equations)})'\n",
    "\n",
    "\n",
    "resolve_eq(\"z05\", equations)"
   ]
  },
  {
   "cell_type": "code",
   "execution_count": null,
   "metadata": {},
   "outputs": [],
   "source": [
    "# Use this to search for nodes\n",
    "looking_for_var = \"x11\"\n",
    "looking_for_op = \"XOR\"\n",
    "[\n",
    "    e\n",
    "    for e in equations\n",
    "    if e[\"operator\"] == looking_for_op\n",
    "    and (e[\"variables\"][0] == looking_for_var or e[\"variables\"][1] == looking_for_var)\n",
    "]"
   ]
  },
  {
   "cell_type": "code",
   "execution_count": null,
   "metadata": {},
   "outputs": [],
   "source": [
    "looking_for_var = \"vbj\"\n",
    "[\n",
    "    e\n",
    "    for e in equations\n",
    "    if (e[\"variables\"][0] == looking_for_var or e[\"variables\"][1] == looking_for_var)\n",
    "]\n",
    "# This returns 2, but we are only interested in the XOR one"
   ]
  },
  {
   "cell_type": "code",
   "execution_count": null,
   "metadata": {},
   "outputs": [],
   "source": [
    "def switch_wires(w1, w2, equations):\n",
    "    e1 = [e for e in equations if e[\"result\"] == w1][0]\n",
    "    e2 = [e for e in equations if e[\"result\"] == w2][0]\n",
    "\n",
    "    e1[\"result\"] = w2\n",
    "    e2[\"result\"] = w1\n",
    "\n",
    "\n",
    "str_eqs = []\n",
    "open_equations = deepcopy(equations)\n",
    "\n",
    "switch_wires(\"vkq\", \"z11\", open_equations)\n",
    "# Removing last 3 switches to not leak too much\n",
    "# switch_wires(\"x\", \"x\", open_equations)\n",
    "# switch_wires(\"x\", \"x\", open_equations)\n",
    "# switch_wires(\"x\", \"x\", open_equations)\n",
    "\n",
    "for eq in open_equations:\n",
    "    if eq[\"result\"].startswith(\"z\"):\n",
    "        str_eqs.append(f\"{eq[\"result\"]} = {resolve_eq(eq[\"result\"], open_equations)}\")\n",
    "\n",
    "eq_str_list = []\n",
    "for eq in sorted(str_eqs):\n",
    "    e = eq.split(\" = \")[1]\n",
    "    expr = sympify(\n",
    "        e.replace(\"AND\", \"&\").replace(\"XOR\", \"^\").replace(\"OR\", \"|\").replace(\" \", \"\"),\n",
    "        convert_xor=False,\n",
    "    )\n",
    "    str_expr = str(expr)\n",
    "    eq_str_list.append(f\"{eq.split(\" = \")[0]} = {str_expr}\")\n",
    "\n",
    "\n",
    "# replace carry overs\n",
    "eq_str = \"\\n\".join(eq_str_list)\n",
    "\n",
    "repl_eq_str = eq_str.replace(\"x00 & y00 & (x01 ^ y01)\", \"c01\")\n",
    "for i in range(1, 45):\n",
    "    repl_eq_str = repl_eq_str.replace(\n",
    "        f\"(x{i+1:02} ^ y{i+1:02}) & ((x{i:02} & y{i:02}) | (c{i:02}))\", f\"c{i+1:02}\"\n",
    "    )\n",
    "\n",
    "print(repl_eq_str)"
   ]
  },
  {
   "cell_type": "code",
   "execution_count": 10,
   "metadata": {},
   "outputs": [],
   "source": [
    "# \",\".join(sorted([<solution list>]))"
   ]
  }
 ],
 "metadata": {
  "kernelspec": {
   "display_name": ".venv",
   "language": "python",
   "name": "python3"
  },
  "language_info": {
   "codemirror_mode": {
    "name": "ipython",
    "version": 3
   },
   "file_extension": ".py",
   "mimetype": "text/x-python",
   "name": "python",
   "nbconvert_exporter": "python",
   "pygments_lexer": "ipython3",
   "version": "3.13.1"
  }
 },
 "nbformat": 4,
 "nbformat_minor": 2
}
