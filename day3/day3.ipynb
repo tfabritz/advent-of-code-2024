{
 "cells": [
  {
   "cell_type": "code",
   "execution_count": 1,
   "metadata": {},
   "outputs": [],
   "source": [
    "import re"
   ]
  },
  {
   "cell_type": "code",
   "execution_count": null,
   "metadata": {},
   "outputs": [],
   "source": [
    "with open(\"input-example.txt\") as f:\n",
    "    lines = f.readlines()\n",
    "lines = [l.strip() for l in lines]\n",
    "lines[:5]"
   ]
  },
  {
   "cell_type": "code",
   "execution_count": null,
   "metadata": {},
   "outputs": [],
   "source": [
    "corr_code = \"\".join(lines)\n",
    "corr_code"
   ]
  },
  {
   "cell_type": "code",
   "execution_count": null,
   "metadata": {},
   "outputs": [],
   "source": [
    "def extract_mul(code):\n",
    "    mul_regex = r\"mul\\(\\d{1,3},\\d{1,3}\\)\"\n",
    "    return re.findall(mul_regex, code)\n",
    "\n",
    "\n",
    "print(extract_mul(corr_code))"
   ]
  },
  {
   "cell_type": "code",
   "execution_count": 5,
   "metadata": {},
   "outputs": [],
   "source": [
    "mul_statements = extract_mul(corr_code)"
   ]
  },
  {
   "cell_type": "code",
   "execution_count": null,
   "metadata": {},
   "outputs": [],
   "source": [
    "sum_list = 0\n",
    "for stmt in mul_statements:\n",
    "    num_list = stmt.replace(\"mul(\", \"\").replace(\")\", \"\").split(\",\")\n",
    "    # print(num_list)\n",
    "    num_list = [int(i) for i in num_list]\n",
    "    sum_list += num_list[0] * num_list[1]\n",
    "sum_list"
   ]
  },
  {
   "cell_type": "code",
   "execution_count": 7,
   "metadata": {},
   "outputs": [],
   "source": [
    "# part 2"
   ]
  },
  {
   "cell_type": "code",
   "execution_count": null,
   "metadata": {},
   "outputs": [],
   "source": [
    "def parse_code(code):\n",
    "    code_regex = r\"mul\\(\\d{1,3},\\d{1,3}\\)|do\\(\\)|don\\'t\\(\\)\"\n",
    "    return re.findall(code_regex, code)\n",
    "\n",
    "\n",
    "print(parse_code(corr_code))"
   ]
  },
  {
   "cell_type": "code",
   "execution_count": 9,
   "metadata": {},
   "outputs": [],
   "source": [
    "parsed_code = parse_code(corr_code)"
   ]
  },
  {
   "cell_type": "code",
   "execution_count": null,
   "metadata": {},
   "outputs": [],
   "source": [
    "res = 0\n",
    "enabled = True\n",
    "for stmt in parsed_code:\n",
    "    if stmt == \"do()\":\n",
    "        enabled = True\n",
    "    elif stmt == \"don't()\":\n",
    "        enabled = False\n",
    "    else:\n",
    "        if enabled:\n",
    "            num_list = stmt.replace(\"mul(\", \"\").replace(\")\", \"\").split(\",\")\n",
    "            num_list = [int(i) for i in num_list]\n",
    "            res += num_list[0] * num_list[1]\n",
    "res"
   ]
  },
  {
   "cell_type": "code",
   "execution_count": 11,
   "metadata": {},
   "outputs": [],
   "source": [
    "# Experiment a bit with pyParsing instead of regex\n",
    "# Maybe it will come in handy for future days"
   ]
  },
  {
   "cell_type": "code",
   "execution_count": 12,
   "metadata": {},
   "outputs": [],
   "source": [
    "from pyparsing import (\n",
    "    Word,\n",
    "    Literal,\n",
    "    Char,\n",
    "    printables,\n",
    "    common,\n",
    "    Suppress,\n",
    "    OneOrMore,Group\n",
    ")"
   ]
  },
  {
   "cell_type": "code",
   "execution_count": 13,
   "metadata": {},
   "outputs": [],
   "source": [
    "number = Word(\"0123456789\", min=1, max=3).set_parse_action(common.convert_to_integer)\n",
    "mul = (\"mul\" + Suppress(\"(\") + number + Suppress(\",\") + number + Suppress(\")\"))\n",
    "do = Literal(\"do\")\n",
    "dont = Literal(\"don't\")\n",
    "single_char = Char(printables)\n",
    "parser = mul | dont | do "
   ]
  },
  {
   "cell_type": "code",
   "execution_count": null,
   "metadata": {},
   "outputs": [],
   "source": [
    "list(parser.search_string(corr_code))"
   ]
  },
  {
   "cell_type": "code",
   "execution_count": null,
   "metadata": {},
   "outputs": [],
   "source": [
    "# too lazy to implement the actual solution here"
   ]
  },
  {
   "cell_type": "code",
   "execution_count": null,
   "metadata": {},
   "outputs": [],
   "source": [
    "# Try parsing the complete string as one object\n",
    "number = Word(\"0123456789\", min=1, max=3).set_parse_action(common.convert_to_integer)\n",
    "mul = Group(\"mul\" + Suppress(\"(\") + number + Suppress(\",\") + number + Suppress(\")\"))\n",
    "do =  Group(Literal(\"do\"))\n",
    "dont =  Group(Literal(\"don't\"))\n",
    "single_char = Suppress(Char(printables))\n",
    "parser = OneOrMore(mul | dont | do | single_char)\n",
    "parser.parse_string(corr_code)"
   ]
  }
 ],
 "metadata": {
  "kernelspec": {
   "display_name": ".venv",
   "language": "python",
   "name": "python3"
  },
  "language_info": {
   "codemirror_mode": {
    "name": "ipython",
    "version": 3
   },
   "file_extension": ".py",
   "mimetype": "text/x-python",
   "name": "python",
   "nbconvert_exporter": "python",
   "pygments_lexer": "ipython3",
   "version": "3.13.1"
  }
 },
 "nbformat": 4,
 "nbformat_minor": 2
}
