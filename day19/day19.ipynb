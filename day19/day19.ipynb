{
 "cells": [
  {
   "cell_type": "code",
   "execution_count": 1,
   "metadata": {},
   "outputs": [],
   "source": [
    "from functools import cache"
   ]
  },
  {
   "cell_type": "code",
   "execution_count": null,
   "metadata": {},
   "outputs": [],
   "source": [
    "with open(\"input-example.txt\") as f:\n",
    "    lines = f.readlines()\n",
    "lines = [l.strip() for l in lines]\n",
    "lines[:5]"
   ]
  },
  {
   "cell_type": "code",
   "execution_count": null,
   "metadata": {},
   "outputs": [],
   "source": [
    "available_patterns = []\n",
    "desired_patterns = []\n",
    "first_parse = True\n",
    "\n",
    "for line in lines:\n",
    "    if len(line) == 0:\n",
    "        first_parse = False\n",
    "    elif first_parse:\n",
    "        available_patterns = [s.strip() for s in line.split(\",\")]\n",
    "    else:\n",
    "        desired_patterns.append(line)\n",
    "\n",
    "available_patterns_set = set(available_patterns)\n",
    "max_len_pattern = max([len(p) for p in available_patterns])\n",
    "max_len_pattern"
   ]
  },
  {
   "cell_type": "code",
   "execution_count": 4,
   "metadata": {},
   "outputs": [],
   "source": [
    "# DFS that starts with the longest pattern and then searches from there\n",
    "# Use cache which enables each suffix to be only computed once and then being taken from cache\n",
    "# For example take patterns r, b and rb \n",
    "# And target rbrr \n",
    "# Then starting at the longest possible is rb and the remaining rr (in this case only one possible combinatrion of r,r)\n",
    "# But it only needs to be computed for rb,r,r\n",
    "# And for r,b,r,r it can use the cache \n",
    "# For this part early exit would be possible when one solution is found, but it completes very fast without it anyway "
   ]
  },
  {
   "cell_type": "code",
   "execution_count": 5,
   "metadata": {},
   "outputs": [],
   "source": [
    "@cache\n",
    "def search_pattern_combination(target_pattern):\n",
    "\n",
    "    if len(target_pattern) == 0:\n",
    "        return True\n",
    "    search_results = []\n",
    "    for i in reversed(range(1, max_len_pattern + 1)):\n",
    "        # print(\"Checking\", i, len(target_pattern), target_pattern[:i])\n",
    "        if len(target_pattern) < i:\n",
    "            continue\n",
    "        if target_pattern[:i] in available_patterns_set:\n",
    "            search_results.append(search_pattern_combination(target_pattern[i:]))\n",
    "    sr = any(search_results)\n",
    "    return sr\n",
    "\n",
    "# search_pattern_combination(\"bwurrg\")"
   ]
  },
  {
   "cell_type": "code",
   "execution_count": null,
   "metadata": {},
   "outputs": [],
   "source": [
    "cnt = 0\n",
    "for p in desired_patterns:\n",
    "    possible = search_pattern_combination(p)\n",
    "    # print(p, possible)\n",
    "    if possible:\n",
    "        cnt += 1\n",
    "cnt"
   ]
  },
  {
   "cell_type": "code",
   "execution_count": 7,
   "metadata": {},
   "outputs": [],
   "source": [
    "# part 2"
   ]
  },
  {
   "cell_type": "code",
   "execution_count": 8,
   "metadata": {},
   "outputs": [],
   "source": [
    "# Exact same DFS but return 1 when pattern is found and sum up the list"
   ]
  },
  {
   "cell_type": "code",
   "execution_count": 9,
   "metadata": {},
   "outputs": [],
   "source": [
    "@cache\n",
    "def search_pattern_combination_all(target_pattern):\n",
    "\n",
    "    if len(target_pattern) == 0:\n",
    "        return 1\n",
    "    search_results = []\n",
    "    for i in reversed(range(1, max_len_pattern + 1)):\n",
    "        # print(\"Checking\", i, len(target_pattern), target_pattern[:i])\n",
    "        if len(target_pattern) < i:\n",
    "            continue\n",
    "        if target_pattern[:i] in available_patterns_set:\n",
    "            search_results.append(search_pattern_combination_all(target_pattern[i:]))\n",
    "    sr = sum(search_results)\n",
    "    return sr\n",
    "\n",
    "# search_pattern_combination_all(\"rrbgbr\")"
   ]
  },
  {
   "cell_type": "code",
   "execution_count": null,
   "metadata": {},
   "outputs": [],
   "source": [
    "cnt = 0\n",
    "for p in desired_patterns:\n",
    "    possible_cnt = search_pattern_combination_all(p)\n",
    "    # print(p, possible_cnt)\n",
    "    cnt += possible_cnt\n",
    "cnt"
   ]
  }
 ],
 "metadata": {
  "kernelspec": {
   "display_name": ".venv",
   "language": "python",
   "name": "python3"
  },
  "language_info": {
   "codemirror_mode": {
    "name": "ipython",
    "version": 3
   },
   "file_extension": ".py",
   "mimetype": "text/x-python",
   "name": "python",
   "nbconvert_exporter": "python",
   "pygments_lexer": "ipython3",
   "version": "3.13.1"
  }
 },
 "nbformat": 4,
 "nbformat_minor": 2
}
