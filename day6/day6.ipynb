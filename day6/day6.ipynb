{
 "cells": [
  {
   "cell_type": "code",
   "execution_count": null,
   "metadata": {},
   "outputs": [],
   "source": []
  },
  {
   "cell_type": "code",
   "execution_count": null,
   "metadata": {},
   "outputs": [],
   "source": [
    "with open(\"input-example.txt\") as f:\n",
    "    lines = f.readlines()\n",
    "lines = [l.strip() for l in lines]\n",
    "lines[:5]"
   ]
  },
  {
   "cell_type": "code",
   "execution_count": null,
   "metadata": {},
   "outputs": [],
   "source": [
    "# Dir is a number 0 to 3, clockwise, starting with upwards\n",
    "\n",
    "dirs = {0: (-1, 0), 1: (0, 1), 2: (1, 0), 3: (0, -1)}\n",
    "\n",
    "dir_map = {\"^\": 0, \">\": 1, \"v\": 2, \"<\": 3}\n",
    "\n",
    "\n",
    "def turn(dir):\n",
    "    return (dir + 1) % 4\n",
    "\n",
    "\n",
    "def walk(pos, dir):\n",
    "    return (pos[0] + dirs[dir][0], pos[1] + dirs[dir][1])\n",
    "\n",
    "\n",
    "def look_ahead(pos, dir, field):\n",
    "    next_step = walk(pos, dir)\n",
    "    if not in_bounds(next_step, field):\n",
    "        return \".\"\n",
    "    return field[next_step[0]][next_step[1]]\n",
    "\n",
    "\n",
    "def in_bounds(pos, field):\n",
    "    return (\n",
    "        pos[0] >= 0 and pos[0] < len(field) and pos[1] >= 0 and pos[1] < len(field[0])\n",
    "    )\n",
    "\n",
    "\n",
    "def print_field(field):\n",
    "    for l in field:\n",
    "        for p in l:\n",
    "            print(p, end=\"\")\n",
    "        print()"
   ]
  },
  {
   "cell_type": "code",
   "execution_count": null,
   "metadata": {},
   "outputs": [],
   "source": [
    "start = (-1, -1)\n",
    "for i in range(0, len(lines)):\n",
    "    for j in range(0, len(lines[0])):\n",
    "        if lines[i][j] not in [\".\", \"#\"]:\n",
    "            start = (i, j)\n",
    "start_dir = dir_map[lines[start[0]][start[1]]]\n",
    "print(f\"{start}: {start_dir}\")"
   ]
  },
  {
   "cell_type": "code",
   "execution_count": null,
   "metadata": {},
   "outputs": [],
   "source": [
    "guard_pos = start\n",
    "guard_dir = start_dir\n",
    "\n",
    "fields_seen = set()\n",
    "while in_bounds(guard_pos, lines):\n",
    "    # print(guard_pos)\n",
    "    next_step = look_ahead(guard_pos, guard_dir, lines)\n",
    "    while next_step == '#':\n",
    "        guard_dir = turn(guard_dir)\n",
    "        next_step = look_ahead(guard_pos, guard_dir, lines)\n",
    "\n",
    "    fields_seen.add(guard_pos)\n",
    "\n",
    "    guard_pos = walk(guard_pos, guard_dir)\n",
    "\n",
    "len(fields_seen)"
   ]
  },
  {
   "cell_type": "code",
   "execution_count": null,
   "metadata": {},
   "outputs": [],
   "source": [
    "# part 2"
   ]
  },
  {
   "cell_type": "code",
   "execution_count": null,
   "metadata": {},
   "outputs": [],
   "source": [
    "# Idea is that a circle happens if a field is visited by the guard with the same direction after turning as seen before, as that leads to the same path again\n",
    "circles = 0\n",
    "for i in range(0, len(lines)):\n",
    "    for j in range(0, len(lines[0])):\n",
    "        if (i, j) == start:\n",
    "            continue\n",
    "        if lines[i][j] == \"#\":\n",
    "            continue\n",
    "\n",
    "        guard_pos = start\n",
    "        guard_dir = start_dir\n",
    "\n",
    "        new_field = [list(l) for l in lines]\n",
    "        new_field[i][j] = \"#\"\n",
    "        #print_field(new_field)\n",
    "        is_first = True\n",
    "        seen_fields = set()\n",
    "        found_circle = False\n",
    "        # print(i,j)\n",
    "        while in_bounds(guard_pos, new_field):\n",
    "            #print(i)\n",
    "            #if (i, j) == (6, 3):\n",
    "            #    print(i,j)\n",
    "            #    print(guard_pos)\n",
    "            next_step = look_ahead(guard_pos, guard_dir, new_field)\n",
    "            while next_step == '#':\n",
    "                guard_dir = turn(guard_dir)\n",
    "                next_step = look_ahead(guard_pos, guard_dir, new_field)\n",
    "\n",
    "            if not is_first and (guard_pos, guard_dir) in seen_fields:\n",
    "                found_circle = True\n",
    "                break\n",
    "            \n",
    "            seen_fields.add((guard_pos, guard_dir))\n",
    "            is_first = False\n",
    "            # fields_seen.add(guard_pos)\n",
    "            guard_pos = walk(guard_pos, guard_dir)\n",
    "        if found_circle:\n",
    "            circles += 1\n",
    "circles"
   ]
  }
 ],
 "metadata": {
  "kernelspec": {
   "display_name": ".venv",
   "language": "python",
   "name": "python3"
  },
  "language_info": {
   "codemirror_mode": {
    "name": "ipython",
    "version": 3
   },
   "file_extension": ".py",
   "mimetype": "text/x-python",
   "name": "python",
   "nbconvert_exporter": "python",
   "pygments_lexer": "ipython3",
   "version": "3.13.0"
  }
 },
 "nbformat": 4,
 "nbformat_minor": 2
}
