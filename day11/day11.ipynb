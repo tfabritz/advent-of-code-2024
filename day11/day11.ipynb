{
 "cells": [
  {
   "cell_type": "code",
   "execution_count": 9,
   "metadata": {},
   "outputs": [],
   "source": [
    "import math\n",
    "from functools import cache"
   ]
  },
  {
   "cell_type": "code",
   "execution_count": null,
   "metadata": {},
   "outputs": [],
   "source": [
    "with open(\"input.txt\") as f:\n",
    "    lines = f.readlines()\n",
    "lines = [l.strip() for l in lines]\n",
    "lines[:5]"
   ]
  },
  {
   "cell_type": "code",
   "execution_count": null,
   "metadata": {},
   "outputs": [],
   "source": [
    "nums = [int(i) for i in lines[0].split()]\n",
    "nums"
   ]
  },
  {
   "cell_type": "code",
   "execution_count": 12,
   "metadata": {},
   "outputs": [],
   "source": [
    "def count_digits(number):\n",
    "    return int(math.log10(abs(number))) + 1 if number else 1\n",
    "\n",
    "def transform_num(num):\n",
    "    if num == 0:\n",
    "        return [1]\n",
    "    num_digits = count_digits(num)\n",
    "    if (num_digits % 2) == 0:\n",
    "        return [int(num // (10**(num_digits/2))), int(num % (10**(num_digits/2)))]\n",
    "    \n",
    "    return [num * 2024]\n",
    "\n",
    "def expand(nums):\n",
    "    new_nums = []\n",
    "    for n in nums:\n",
    "        new_nums += transform_num(n)\n",
    "    return new_nums"
   ]
  },
  {
   "cell_type": "code",
   "execution_count": null,
   "metadata": {},
   "outputs": [],
   "source": [
    "res = nums\n",
    "for _ in range(25):\n",
    "    res = expand(res)\n",
    "len(res)"
   ]
  },
  {
   "cell_type": "code",
   "execution_count": 14,
   "metadata": {},
   "outputs": [],
   "source": [
    "# part 2"
   ]
  },
  {
   "cell_type": "code",
   "execution_count": 15,
   "metadata": {},
   "outputs": [],
   "source": [
    "# As expansion of a number always yields the same result, the execution can be cached to speed things up a lot\n",
    "@cache\n",
    "def expand_num(num, times):\n",
    "    if times == 0:\n",
    "        return 1 \n",
    "    \n",
    "    tnum = transform_num(num)\n",
    "    return sum([expand_num(n, times-1) for n in tnum])\n",
    "    "
   ]
  },
  {
   "cell_type": "code",
   "execution_count": null,
   "metadata": {},
   "outputs": [],
   "source": [
    "sum([expand_num(n, 75) for n in nums])"
   ]
  }
 ],
 "metadata": {
  "kernelspec": {
   "display_name": ".venv",
   "language": "python",
   "name": "python3"
  },
  "language_info": {
   "codemirror_mode": {
    "name": "ipython",
    "version": 3
   },
   "file_extension": ".py",
   "mimetype": "text/x-python",
   "name": "python",
   "nbconvert_exporter": "python",
   "pygments_lexer": "ipython3",
   "version": "3.13.1"
  }
 },
 "nbformat": 4,
 "nbformat_minor": 2
}
