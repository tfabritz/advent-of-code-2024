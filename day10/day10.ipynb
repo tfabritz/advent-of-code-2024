{
 "cells": [
  {
   "cell_type": "code",
   "execution_count": null,
   "metadata": {},
   "outputs": [],
   "source": []
  },
  {
   "cell_type": "code",
   "execution_count": null,
   "metadata": {},
   "outputs": [],
   "source": [
    "with open(\"input-example.txt\") as f:\n",
    "    lines = f.readlines()\n",
    "lines = [l.strip() for l in lines]\n",
    "lines[:5]"
   ]
  },
  {
   "cell_type": "code",
   "execution_count": 85,
   "metadata": {},
   "outputs": [],
   "source": [
    "field = [[int(c) for c in line] for line in lines]\n",
    "# field"
   ]
  },
  {
   "cell_type": "code",
   "execution_count": null,
   "metadata": {},
   "outputs": [],
   "source": [
    "dirs = [(-1, 0), (0, 1),  (1, 0),  (0, -1)]\n",
    "\n",
    "def walk(pos, dir):\n",
    "    return (pos[0] + dir[0], pos[1] + dir[1])\n",
    "\n",
    "def in_bounds(pos, field):\n",
    "    return (\n",
    "        pos[0] >= 0 and pos[0] < len(field) and pos[1] >= 0 and pos[1] < len(field[0])\n",
    "    )\n",
    "\n",
    "# Recursive DFS using a result set to only have distinct peaks\n",
    "def search_trails(coord, prev_height, field):\n",
    "    curr_height = field[coord[0]][coord[1]]\n",
    "    # print(f\"Searching at {coord} with prev {prev_height} and curr {curr_height}\")\n",
    "    if prev_height is not None and curr_height - prev_height != 1:\n",
    "        return set()\n",
    "    \n",
    "    if curr_height == 9:\n",
    "        # print(\"found\")\n",
    "        return set([coord])\n",
    "    \n",
    "    peak_set = set()\n",
    "    for d in dirs:\n",
    "        next_pos = walk(coord, d)\n",
    "        if in_bounds(next_pos, field):\n",
    "            peak_set = peak_set.union(search_trails(next_pos, curr_height, field))\n",
    "        else: \n",
    "            continue\n",
    "    \n",
    "    return peak_set\n",
    "    \n",
    "\n",
    "# search_trails((0,4), None, field)\n"
   ]
  },
  {
   "cell_type": "code",
   "execution_count": null,
   "metadata": {},
   "outputs": [],
   "source": [
    "peak_sum = 0\n",
    "for i in range(0, len(field)):\n",
    "    for j in range(0, len(field[0])):\n",
    "        if field[i][j] == 0:\n",
    "            peak_sum += len(search_trails((i,j), None, field))\n",
    "peak_sum\n"
   ]
  },
  {
   "cell_type": "code",
   "execution_count": 88,
   "metadata": {},
   "outputs": [],
   "source": [
    "# part 2"
   ]
  },
  {
   "cell_type": "code",
   "execution_count": null,
   "metadata": {},
   "outputs": [],
   "source": [
    "# Whats needed is distinct paths, but as we are not interested in the path but only its existence\n",
    "# and as DFS only travels each path once, we just sum all found peaks\n",
    "# Actually had this implemented first because I didnt read the puzzle correctly\n",
    "\n",
    "def search_trails(coord, prev_height, field):\n",
    "    curr_height = field[coord[0]][coord[1]]\n",
    "    # print(f\"Searching at {coord} with prev {prev_height} and curr {curr_height}\")\n",
    "    if prev_height is not None and curr_height - prev_height != 1:\n",
    "        return 0\n",
    "    \n",
    "    if curr_height == 9:\n",
    "        # print(\"found\")\n",
    "        return 1\n",
    "    \n",
    "    peak_set = []\n",
    "    for d in dirs:\n",
    "        next_pos = walk(coord, d)\n",
    "        if in_bounds(next_pos, field):\n",
    "            peak_set.append(search_trails(next_pos, curr_height, field))\n",
    "        else: \n",
    "            continue\n",
    "    \n",
    "    return sum(peak_set)\n",
    "    \n",
    "\n",
    "# search_trails((0,4), None, field)\n"
   ]
  },
  {
   "cell_type": "code",
   "execution_count": null,
   "metadata": {},
   "outputs": [],
   "source": [
    "peak_sum = 0\n",
    "for i in range(0, len(field)):\n",
    "    for j in range(0, len(field[0])):\n",
    "        if field[i][j] == 0:\n",
    "            peak_sum += search_trails((i,j), None, field)\n",
    "peak_sum\n"
   ]
  }
 ],
 "metadata": {
  "kernelspec": {
   "display_name": ".venv",
   "language": "python",
   "name": "python3"
  },
  "language_info": {
   "codemirror_mode": {
    "name": "ipython",
    "version": 3
   },
   "file_extension": ".py",
   "mimetype": "text/x-python",
   "name": "python",
   "nbconvert_exporter": "python",
   "pygments_lexer": "ipython3",
   "version": "3.13.0"
  }
 },
 "nbformat": 4,
 "nbformat_minor": 2
}
