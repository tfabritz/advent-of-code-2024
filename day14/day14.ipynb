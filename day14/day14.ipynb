{
 "cells": [
  {
   "cell_type": "code",
   "execution_count": null,
   "metadata": {},
   "outputs": [],
   "source": []
  },
  {
   "cell_type": "code",
   "execution_count": null,
   "metadata": {},
   "outputs": [],
   "source": [
    "with open(\"input.txt\") as f:\n",
    "    lines = f.readlines()\n",
    "lines = [l.strip() for l in lines]\n",
    "lines[:5]"
   ]
  },
  {
   "cell_type": "code",
   "execution_count": null,
   "metadata": {},
   "outputs": [],
   "source": [
    "robots = []\n",
    "for line in lines:\n",
    "    pos, vel = line.split()\n",
    "    # print(pos,vel)\n",
    "    pos = tuple([int(i) for i in pos.split(\"=\")[1].split(\",\")])\n",
    "    vel = tuple([int(i) for i in vel.split(\"=\")[1].split(\",\")])\n",
    "    robots.append((pos, vel))\n",
    "\n",
    "robots[:3]"
   ]
  },
  {
   "cell_type": "code",
   "execution_count": 161,
   "metadata": {},
   "outputs": [],
   "source": [
    "width = 11\n",
    "height = 7"
   ]
  },
  {
   "cell_type": "code",
   "execution_count": 162,
   "metadata": {},
   "outputs": [],
   "source": [
    "def move(robot, width, height):\n",
    "    pos, vel = robot\n",
    "\n",
    "    return (((pos[0] + vel[0]) % width, (pos[1] + vel[1]) % height), vel)"
   ]
  },
  {
   "cell_type": "code",
   "execution_count": null,
   "metadata": {},
   "outputs": [],
   "source": [
    "robots_temp = robots\n",
    "for _ in range(100):\n",
    "    t = []\n",
    "    for robot in robots_temp:\n",
    "        t.append(move(robot, width, height))\n",
    "    robots_temp = t\n",
    "robots_temp[:5]"
   ]
  },
  {
   "cell_type": "code",
   "execution_count": null,
   "metadata": {},
   "outputs": [],
   "source": [
    "def count_quadrants(robots, width, height):\n",
    "    quad_width = (width - 1) / 2\n",
    "    quad_height = (height - 1) / 2\n",
    "    q1 = 0\n",
    "    q2 = 0\n",
    "    q3 = 0\n",
    "    q4 = 0\n",
    "\n",
    "    for robot in robots:\n",
    "        # print(robot)\n",
    "        if robot[0][0] < quad_width and robot[0][1] < quad_height:\n",
    "            q1 += 1\n",
    "        elif robot[0][0] > quad_width and robot[0][1] < quad_height:\n",
    "            q2 += 1\n",
    "        elif robot[0][0] < quad_width and robot[0][1] > quad_height:\n",
    "            q3 += 1\n",
    "        elif robot[0][0] > quad_width and robot[0][1] > quad_height:\n",
    "            q4 += 1\n",
    "    # print(q1,q2,q3,q4)\n",
    "    return q1 * q2 * q3 * q4\n",
    "\n",
    "\n",
    "# count_quadrants(robots_temp, width,height)"
   ]
  },
  {
   "cell_type": "code",
   "execution_count": 165,
   "metadata": {},
   "outputs": [],
   "source": [
    "width = 101\n",
    "height = 103"
   ]
  },
  {
   "cell_type": "code",
   "execution_count": null,
   "metadata": {},
   "outputs": [],
   "source": [
    "robots_temp = robots.copy()\n",
    "for _ in range(100):\n",
    "    t = []\n",
    "    for robot in robots_temp:\n",
    "        t.append(move(robot, width, height))\n",
    "    robots_temp = t\n",
    "robots_temp\n",
    "\n",
    "count_quadrants(robots_temp, width, height)"
   ]
  },
  {
   "cell_type": "code",
   "execution_count": 167,
   "metadata": {},
   "outputs": [],
   "source": [
    "# part 2"
   ]
  },
  {
   "cell_type": "code",
   "execution_count": 168,
   "metadata": {},
   "outputs": [],
   "source": [
    "# First thought was that it could be one big symmetrical christmas tree, so comparing quadrants would be useful\n",
    "# ... it was not\n",
    "def get_quadrants(robots, width, height):\n",
    "    quad_width = (width - 1) / 2\n",
    "    quad_height = (height - 1) / 2\n",
    "    q1 = 0\n",
    "    q2 = 0\n",
    "    q3 = 0\n",
    "    q4 = 0\n",
    "\n",
    "    for robot in robots:\n",
    "        # print(robot)\n",
    "        if robot[0][0] < quad_width and robot[0][1] < quad_height:\n",
    "            q1 += 1\n",
    "        elif robot[0][0] > quad_width and robot[0][1] < quad_height:\n",
    "            q2 += 1\n",
    "        elif robot[0][0] < quad_width and robot[0][1] > quad_height:\n",
    "            q3 += 1\n",
    "        elif robot[0][0] > quad_width and robot[0][1] > quad_height:\n",
    "            q4 += 1\n",
    "    return q1, q2, q3, q4"
   ]
  },
  {
   "cell_type": "code",
   "execution_count": 169,
   "metadata": {},
   "outputs": [],
   "source": [
    "def print_robots(robots_coords, width, height):\n",
    "    for i in range(0, height):\n",
    "        for j in range(0, width):\n",
    "            if (j, i) in robots_coords:\n",
    "                print(\"X\", end=\"\")\n",
    "            else:\n",
    "                print(\".\", end=\"\")\n",
    "        print()"
   ]
  },
  {
   "cell_type": "code",
   "execution_count": null,
   "metadata": {},
   "outputs": [],
   "source": [
    "# Second idea was that christmas trees must have a lot of diagonal fields\n",
    "# This with playing around a bit with the numbers gave the result\n",
    "width = 101\n",
    "height = 103\n",
    "robots_temp = robots\n",
    "for i in range(10000):\n",
    "    t = []\n",
    "    s = set()\n",
    "\n",
    "    for robot in robots_temp:\n",
    "        rm = move(robot, width, height)\n",
    "        t.append(rm)\n",
    "        s.add(rm[0])\n",
    "\n",
    "    diag_count = 0\n",
    "    for r in t:\n",
    "        if (r[0][0] + 1, r[0][1] + 1) in s or (r[0][0] + 1, r[0][1] - 1) in s:\n",
    "            diag_count += 1\n",
    "\n",
    "    if diag_count > 150:\n",
    "        print(i + 1)\n",
    "        print_robots(s, width, height)\n",
    "        print()\n",
    "\n",
    "    robots_temp = t\n",
    "\n",
    "robots_temp\n",
    "\n",
    "count_quadrants(robots_temp, width, height)"
   ]
  },
  {
   "cell_type": "code",
   "execution_count": null,
   "metadata": {},
   "outputs": [],
   "source": []
  }
 ],
 "metadata": {
  "kernelspec": {
   "display_name": ".venv",
   "language": "python",
   "name": "python3"
  },
  "language_info": {
   "codemirror_mode": {
    "name": "ipython",
    "version": 3
   },
   "file_extension": ".py",
   "mimetype": "text/x-python",
   "name": "python",
   "nbconvert_exporter": "python",
   "pygments_lexer": "ipython3",
   "version": "3.13.1"
  }
 },
 "nbformat": 4,
 "nbformat_minor": 2
}
