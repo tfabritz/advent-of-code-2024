{
 "cells": [
  {
   "cell_type": "code",
   "execution_count": 1,
   "metadata": {},
   "outputs": [],
   "source": [
    "from copy import deepcopy"
   ]
  },
  {
   "cell_type": "code",
   "execution_count": null,
   "metadata": {},
   "outputs": [],
   "source": [
    "with open(\"input.txt\") as f:\n",
    "    lines = f.readlines()\n",
    "lines = [l.strip() for l in lines]\n",
    "lines[:5]"
   ]
  },
  {
   "cell_type": "code",
   "execution_count": 3,
   "metadata": {},
   "outputs": [],
   "source": [
    "registers = {}\n",
    "program = []\n",
    "prog_parse = False\n",
    "for line in lines:\n",
    "    if len(line) == 0:\n",
    "        prog_parse = True\n",
    "        continue\n",
    "    if not prog_parse:\n",
    "        registers[line.split(\":\")[0][-1]] = int(line.split(\":\")[1])\n",
    "    else:\n",
    "        program = [int(i) for i in line.split(\":\")[1].split(\",\")]"
   ]
  },
  {
   "cell_type": "code",
   "execution_count": 4,
   "metadata": {},
   "outputs": [],
   "source": [
    "def get_combo_operand(operand, registers):\n",
    "    if operand <= 3:\n",
    "        return operand \n",
    "    elif operand == 4:\n",
    "        return registers[\"A\"]\n",
    "    elif operand == 5:\n",
    "        return registers[\"B\"]\n",
    "    elif operand == 6:\n",
    "        return registers[\"C\"]\n",
    "    "
   ]
  },
  {
   "cell_type": "code",
   "execution_count": null,
   "metadata": {},
   "outputs": [],
   "source": [
    "def run_program(program, registers):\n",
    "    instruction_pointer = 0\n",
    "    output = []\n",
    "    while True:\n",
    "        if instruction_pointer > len(program) - 2:\n",
    "            break\n",
    "\n",
    "        opcode = program[instruction_pointer]\n",
    "        operand = program[instruction_pointer + 1]\n",
    "\n",
    "        if opcode == 0:\n",
    "            numerator = registers[\"A\"]\n",
    "            denominator = 2 ** get_combo_operand(operand, registers)\n",
    "            int_res = int(numerator / denominator)\n",
    "            registers[\"A\"] = int_res\n",
    "        elif opcode == 1:\n",
    "            registers[\"B\"] = operand ^ registers[\"B\"]\n",
    "        elif opcode == 2:\n",
    "            registers[\"B\"] = get_combo_operand(operand, registers) % 8\n",
    "        elif opcode == 3:\n",
    "            if registers[\"A\"] != 0:\n",
    "                instruction_pointer = operand \n",
    "                continue \n",
    "        elif opcode == 4:\n",
    "            registers[\"B\"] = registers[\"B\"] ^ registers[\"C\"]\n",
    "        elif opcode == 5:\n",
    "            o = get_combo_operand(operand, registers) % 8\n",
    "            output.append(o)\n",
    "        elif opcode == 6:\n",
    "            numerator = registers[\"A\"]\n",
    "            denominator = 2 ** get_combo_operand(operand, registers)\n",
    "            int_res = int(numerator / denominator)\n",
    "            registers[\"B\"] = int_res\n",
    "        elif opcode == 7:\n",
    "            numerator = registers[\"A\"]\n",
    "            denominator = 2 ** get_combo_operand(operand, registers)\n",
    "            int_res = int(numerator / denominator)\n",
    "            registers[\"C\"] = int_res\n",
    "\n",
    "        instruction_pointer += 2\n",
    "    return output\n",
    "\n",
    "\",\".join([str(i) for i in run_program(program, deepcopy(registers))])"
   ]
  },
  {
   "cell_type": "code",
   "execution_count": 6,
   "metadata": {},
   "outputs": [],
   "source": [
    "# part 2"
   ]
  },
  {
   "cell_type": "code",
   "execution_count": 7,
   "metadata": {},
   "outputs": [],
   "source": [
    "# to get a 16 digit output, the number needs to be at least 2**45, 17 digit would be 2**48,\n",
    "# that leaves 246290604621824 which is a bit much for brute force\n",
    "# So I started looking for patterns in the lower numbers\n",
    "# The last number in the output changes its value depending on the length of the output:"
   ]
  },
  {
   "cell_type": "code",
   "execution_count": 8,
   "metadata": {},
   "outputs": [],
   "source": [
    "# len(output)==1  last number changes every 2**0\n",
    "# len(output)==2  last number changes every 2**3\n",
    "# len(output)==3  last number changes every 2**6\n",
    "# len(output)==4  last number changes every 2**9\n",
    "# ...\n",
    "# len(output)==16  last number changes every 2**45"
   ]
  },
  {
   "cell_type": "code",
   "execution_count": 9,
   "metadata": {},
   "outputs": [],
   "source": [
    "#last = 0\n",
    "#for i in range(1, 16):\n",
    "#    last+=3\n",
    "#    print(i ,last)\n",
    "# last"
   ]
  },
  {
   "cell_type": "code",
   "execution_count": 10,
   "metadata": {},
   "outputs": [],
   "source": [
    "# len(output)==1  second to last number changes every -\n",
    "# len(output)==2  second to last number changes every 2**0\n",
    "# len(output)==3  second to last number changes every 2**3\n",
    "# len(output)==4  second to last number changes every 2**6\n",
    "# ...\n",
    "# len(output)==16  second to last number changes every 2**42"
   ]
  },
  {
   "cell_type": "code",
   "execution_count": 11,
   "metadata": {},
   "outputs": [],
   "source": [
    "# So the idea is to find the correct number by going through the back, starting where the output is already 16 digits \n",
    "# And then adding 2**((45-(3*checking_number_from_back))) to the register\n",
    "\n",
    "# This got me very close, but not all the way as the second number changes multiple times\n",
    "# I was too lazy to implement some backtracking and just did brute force from where almost all numbers matched\n",
    "# Which was the last i output\n",
    "# This worked"
   ]
  },
  {
   "cell_type": "code",
   "execution_count": null,
   "metadata": {},
   "outputs": [],
   "source": [
    "i = 0\n",
    "checking_number_from_back = 0 # count numbers from back\n",
    "while True:\n",
    "    regs = deepcopy(registers)\n",
    "    regs[\"A\"] = i\n",
    "    output = run_program(program, regs)\n",
    "    num_from_back_index = checking_number_from_back + 1\n",
    "    if num_from_back_index > 14 and (output == program):\n",
    "        print(\"Found solution\", i)\n",
    "        break\n",
    "    if checking_number_from_back >= len(program):\n",
    "        print(\"Trying to check too far. Last i:\", i, output, program)\n",
    "        break\n",
    "    if output[-1 * num_from_back_index] == program[-1 * num_from_back_index]:\n",
    "        checking_number_from_back += 1\n",
    "        # Print the last few steps\n",
    "        if num_from_back_index > 13:\n",
    "            print(\"i\", i, \"checking from back\", checking_number_from_back, \"numbers:\", output[-1 * num_from_back_index], program[-1 * num_from_back_index])\n",
    "            print(output)\n",
    "            print(program)\n",
    "            print()\n",
    "        continue \n",
    "    else:\n",
    "        step_size = 2**((45-(3*checking_number_from_back)))\n",
    "        # print(\"Stepsize\", step_size)\n",
    "        i += step_size\n",
    "\n",
    "print(i)"
   ]
  },
  {
   "cell_type": "code",
   "execution_count": null,
   "metadata": {},
   "outputs": [],
   "source": [
    "i = 0 # replace with <output> from above\n",
    "while True:\n",
    "    if i == 0:\n",
    "        print(\"i needs to be replaced\")\n",
    "        break\n",
    "    regs = deepcopy(registers)\n",
    "    regs[\"A\"] = i\n",
    "    output = run_program(program, regs)\n",
    "    if output == program:\n",
    "        break\n",
    "    i += 1\n",
    "print(i) "
   ]
  }
 ],
 "metadata": {
  "kernelspec": {
   "display_name": ".venv",
   "language": "python",
   "name": "python3"
  },
  "language_info": {
   "codemirror_mode": {
    "name": "ipython",
    "version": 3
   },
   "file_extension": ".py",
   "mimetype": "text/x-python",
   "name": "python",
   "nbconvert_exporter": "python",
   "pygments_lexer": "ipython3",
   "version": "3.13.1"
  }
 },
 "nbformat": 4,
 "nbformat_minor": 2
}
