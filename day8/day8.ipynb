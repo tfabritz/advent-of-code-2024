{
 "cells": [
  {
   "cell_type": "code",
   "execution_count": null,
   "metadata": {},
   "outputs": [],
   "source": [
    "import itertools"
   ]
  },
  {
   "cell_type": "code",
   "execution_count": null,
   "metadata": {},
   "outputs": [],
   "source": [
    "with open(\"input-example.txt\") as f:\n",
    "    lines = f.readlines()\n",
    "lines = [l.strip() for l in lines]\n",
    "lines[:5]"
   ]
  },
  {
   "cell_type": "code",
   "execution_count": null,
   "metadata": {},
   "outputs": [],
   "source": [
    "antennas = {}\n",
    "for i in range(0, len(lines)):\n",
    "    for j in range(0, len(lines[0])):\n",
    "        coord = lines[i][j]\n",
    "        if coord not in [\".\"]:\n",
    "            if coord not in antennas:\n",
    "                antennas[coord] = [(i, j)]\n",
    "            else:\n",
    "                antennas[coord].append((i, j))\n",
    "# antennas"
   ]
  },
  {
   "cell_type": "code",
   "execution_count": null,
   "metadata": {},
   "outputs": [],
   "source": [
    "def get_antinodes(a1, a2):\n",
    "    dist = (a1[0] - a2[0], a1[1] - a2[1])\n",
    "    \n",
    "    return ((a1[0] + dist[0], a1[1] + dist[1]), (a2[0] - dist[0], a2[1] - dist[1]))\n",
    "\n",
    "def in_bounds(pos, field):\n",
    "    return (\n",
    "        pos[0] >= 0 and pos[0] < len(field) and pos[1] >= 0 and pos[1] < len(field[0])\n",
    "    )\n",
    "\n",
    "\n",
    "# get_antinodes((3, 4), (5, 5))"
   ]
  },
  {
   "cell_type": "code",
   "execution_count": null,
   "metadata": {},
   "outputs": [],
   "source": [
    "antinodes = set()\n",
    "for k, v in antennas.items():\n",
    "    combs = list(itertools.combinations(v, 2))\n",
    "    for comb in combs:\n",
    "        antinode_1, antinode_2 = get_antinodes(comb[0], comb[1])\n",
    "        if in_bounds(antinode_1, lines):\n",
    "            antinodes.add(antinode_1)\n",
    "        if in_bounds(antinode_2, lines):\n",
    "            antinodes.add(antinode_2)\n",
    "\n",
    "len(antinodes)\n",
    "    "
   ]
  },
  {
   "cell_type": "code",
   "execution_count": null,
   "metadata": {},
   "outputs": [],
   "source": [
    "# part 2"
   ]
  },
  {
   "cell_type": "code",
   "execution_count": null,
   "metadata": {},
   "outputs": [],
   "source": [
    "# Very greedily just walk into each direction until out of bounds\n",
    "# Start at 0 to also add the antenna itself\n",
    "def get_antinodes_res(a1, a2):\n",
    "    dist = (a1[0] - a2[0], a1[1] - a2[1])\n",
    "    antinodes_set = set()\n",
    "\n",
    "    i = 0\n",
    "    while True:\n",
    "        a = (a1[0] + dist[0] * i, a1[1] + dist[1] * i)\n",
    "        if not in_bounds(a, lines):\n",
    "            break \n",
    "        antinodes_set.add(a)\n",
    "        i += 1\n",
    "\n",
    "    i = 0\n",
    "    while True:\n",
    "        a = (a2[0] - dist[0] * i, a2[1] - dist[1] * i)\n",
    "        if not in_bounds(a, lines):\n",
    "            break \n",
    "        antinodes_set.add(a)\n",
    "        i += 1\n",
    "    \n",
    "    return antinodes_set\n"
   ]
  },
  {
   "cell_type": "code",
   "execution_count": null,
   "metadata": {},
   "outputs": [],
   "source": [
    "# For each combination of 2 different antennas, put all antinodes into a set\n",
    "antinodes = set()\n",
    "for k, v in antennas.items():\n",
    "    combs = list(itertools.combinations(v, 2))\n",
    "    for comb in combs:\n",
    "        a = get_antinodes_res(comb[0], comb[1])\n",
    "        antinodes = antinodes.union(a)\n",
    "\n",
    "len(antinodes)"
   ]
  }
 ],
 "metadata": {
  "kernelspec": {
   "display_name": ".venv",
   "language": "python",
   "name": "python3"
  },
  "language_info": {
   "codemirror_mode": {
    "name": "ipython",
    "version": 3
   },
   "file_extension": ".py",
   "mimetype": "text/x-python",
   "name": "python",
   "nbconvert_exporter": "python",
   "pygments_lexer": "ipython3",
   "version": "3.13.1"
  }
 },
 "nbformat": 4,
 "nbformat_minor": 2
}
