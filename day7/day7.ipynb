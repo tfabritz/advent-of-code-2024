{
 "cells": [
  {
   "cell_type": "code",
   "execution_count": null,
   "metadata": {},
   "outputs": [],
   "source": []
  },
  {
   "cell_type": "code",
   "execution_count": null,
   "metadata": {},
   "outputs": [],
   "source": [
    "with open(\"input-example.txt\") as f:\n",
    "    lines = f.readlines()\n",
    "lines = [l.strip() for l in lines]\n",
    "lines[:5]"
   ]
  },
  {
   "cell_type": "code",
   "execution_count": null,
   "metadata": {},
   "outputs": [],
   "source": [
    "equations = []\n",
    "for line in lines:\n",
    "    res = int(line.split(\":\")[0])\n",
    "    numbers = [int(n) for n in line.split(\":\")[1].strip().split()]\n",
    "    equations.append((res, numbers))\n",
    "equations[:5]"
   ]
  },
  {
   "cell_type": "code",
   "execution_count": 3,
   "metadata": {},
   "outputs": [],
   "source": [
    "# Recursive DFS\n",
    "def search_solution(res, cur, rest):\n",
    "    if (cur > res) or ((len(rest) == 0) and res != cur):\n",
    "        return False\n",
    "    if cur == res and len(rest) == 0:\n",
    "        return True\n",
    "\n",
    "    return search_solution(res, cur + rest[0], rest[1:]) or search_solution(\n",
    "        res, cur * rest[0], rest[1:]\n",
    "    )"
   ]
  },
  {
   "cell_type": "code",
   "execution_count": null,
   "metadata": {},
   "outputs": [],
   "source": [
    "true_eqs = 0\n",
    "for e in equations:\n",
    "    if search_solution(e[0], 0, e[1]):\n",
    "        true_eqs += e[0]\n",
    "\n",
    "true_eqs"
   ]
  },
  {
   "cell_type": "code",
   "execution_count": 5,
   "metadata": {},
   "outputs": [],
   "source": [
    "# part 2"
   ]
  },
  {
   "cell_type": "code",
   "execution_count": null,
   "metadata": {},
   "outputs": [],
   "source": [
    "# Recursive DFS but order is important, as largest operation first prunes branches the fastest\n",
    "def search_solution(res, cur, rest):\n",
    "    # print(f\"res={res}, cur={cur}, rest={rest}\")\n",
    "    if (cur > res) or ((len(rest) == 0) and res != cur):\n",
    "        return False\n",
    "    if cur == res and len(rest) == 0:\n",
    "        return True\n",
    "\n",
    "    # largest growing operation first to abort early\n",
    "    return (\n",
    "        search_solution(res, int(str(cur) + str(rest[0])), rest[1:])\n",
    "        or search_solution(res, cur * rest[0], rest[1:])\n",
    "        or search_solution(res, cur + rest[0], rest[1:])\n",
    "    )\n",
    "\n",
    "\n",
    "search_solution(48, 0, [1, 2, 4])  # 12*4"
   ]
  },
  {
   "cell_type": "code",
   "execution_count": null,
   "metadata": {},
   "outputs": [],
   "source": [
    "true_eqs = 0\n",
    "for e in equations:\n",
    "    if search_solution(e[0], 0, e[1]):\n",
    "        true_eqs += e[0]\n",
    "\n",
    "true_eqs"
   ]
  }
 ],
 "metadata": {
  "kernelspec": {
   "display_name": ".venv",
   "language": "python",
   "name": "python3"
  },
  "language_info": {
   "codemirror_mode": {
    "name": "ipython",
    "version": 3
   },
   "file_extension": ".py",
   "mimetype": "text/x-python",
   "name": "python",
   "nbconvert_exporter": "python",
   "pygments_lexer": "ipython3",
   "version": "3.13.1"
  }
 },
 "nbformat": 4,
 "nbformat_minor": 2
}
