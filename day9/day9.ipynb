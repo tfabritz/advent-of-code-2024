{
 "cells": [
  {
   "cell_type": "code",
   "execution_count": null,
   "metadata": {},
   "outputs": [],
   "source": []
  },
  {
   "cell_type": "code",
   "execution_count": null,
   "metadata": {},
   "outputs": [],
   "source": [
    "with open(\"input-example.txt\") as f:\n",
    "    lines = f.readlines()\n",
    "lines = [l.strip() for l in lines]\n",
    "lines[:5]"
   ]
  },
  {
   "cell_type": "code",
   "execution_count": 64,
   "metadata": {},
   "outputs": [],
   "source": [
    "def print_memory(memory):\n",
    "    for m in memory:\n",
    "        if m == -1:\n",
    "            print(\".\", end=\"\")\n",
    "        else:\n",
    "            print(f\"({m})\", end=\"\")\n",
    "    print()"
   ]
  },
  {
   "cell_type": "code",
   "execution_count": 65,
   "metadata": {},
   "outputs": [],
   "source": [
    "memory = []\n",
    "memory_str = lines[0]\n",
    "block_counter = 0\n",
    "is_data = True # flip between reads\n",
    "for c in memory_str:\n",
    "    cnt = int(c)\n",
    "    for _ in range(cnt):\n",
    "        if is_data:\n",
    "            memory.append(block_counter)\n",
    "        else:\n",
    "            memory.append(-1)\n",
    "    if is_data:\n",
    "        block_counter += 1\n",
    "    is_data = not is_data\n",
    "\n",
    "# print_memory(memory)"
   ]
  },
  {
   "cell_type": "code",
   "execution_count": 66,
   "metadata": {},
   "outputs": [],
   "source": [
    "memory_p1 = memory.copy()\n",
    "\n",
    "left_pointer = 0\n",
    "right_pointer = len(memory_p1) - 1\n",
    "\n",
    "while left_pointer < right_pointer:\n",
    "    # get to the next free slot on the left\n",
    "    while memory_p1[left_pointer] != -1:\n",
    "        left_pointer += 1\n",
    "    # and the next not free slot on the right\n",
    "    while memory_p1[right_pointer] == -1:\n",
    "        right_pointer -= 1\n",
    "    if left_pointer >= right_pointer:\n",
    "        break\n",
    "\n",
    "    memory_p1[left_pointer] = memory_p1[right_pointer]\n",
    "    memory_p1[right_pointer] = -1 \n",
    "\n",
    "# print_memory(memory_p1)\n"
   ]
  },
  {
   "cell_type": "code",
   "execution_count": null,
   "metadata": {},
   "outputs": [],
   "source": [
    "pos = 0\n",
    "hash = 0\n",
    "for m in memory_p1:\n",
    "    if m != -1:\n",
    "        hash = hash + (pos * m)\n",
    "    pos += 1\n",
    "hash"
   ]
  },
  {
   "cell_type": "code",
   "execution_count": 68,
   "metadata": {},
   "outputs": [],
   "source": [
    "# part 2"
   ]
  },
  {
   "cell_type": "code",
   "execution_count": null,
   "metadata": {},
   "outputs": [],
   "source": [
    "# Naive solution by moving through the complete expanded memory from right to left and always searching all of the left space\n",
    "# This is far from optimal but since it runs in around 20 seconds, still good enough\n",
    "\n",
    "memory_p2 = memory.copy()\n",
    "\n",
    "right_pointer = len(memory_p2) - 1\n",
    "\n",
    "while right_pointer >= 0:\n",
    "    # move right pointer to next file\n",
    "    while memory_p2[right_pointer] == -1:\n",
    "        right_pointer -= 1\n",
    "\n",
    "    # Get block data\n",
    "    block_id_to_move = memory_p2[right_pointer]\n",
    "    block_size_to_move = 0\n",
    "    tmp_pointer = right_pointer\n",
    "    while memory_p2[tmp_pointer] == block_id_to_move:\n",
    "        block_size_to_move += 1\n",
    "        tmp_pointer -= 1\n",
    "    \n",
    "    # check free space \n",
    "    free_space_pointer = 0\n",
    "    found_fitting_space = False\n",
    "    while free_space_pointer < (right_pointer - block_size_to_move):\n",
    "        while memory_p2[free_space_pointer] != -1:\n",
    "            free_space_pointer += 1\n",
    "        \n",
    "        if free_space_pointer > right_pointer:\n",
    "            break\n",
    "\n",
    "        free_space_size = 0\n",
    "        tmp_space_pointer = free_space_pointer\n",
    "        while memory_p2[tmp_space_pointer] == -1:\n",
    "            free_space_size += 1\n",
    "            tmp_space_pointer += 1\n",
    "\n",
    "        if free_space_size >= block_size_to_move:\n",
    "            found_fitting_space = True \n",
    "            break \n",
    "        else:\n",
    "            free_space_pointer += free_space_size\n",
    "    \n",
    "    if found_fitting_space:\n",
    "        #print(f\"Moving block {block_id_to_move} to {free_space_pointer}\")\n",
    "        for _ in range(block_size_to_move):\n",
    "            memory_p2[free_space_pointer] = block_id_to_move\n",
    "            memory_p2[right_pointer] = -1\n",
    "            free_space_pointer += 1\n",
    "            right_pointer -= 1\n",
    "    else: \n",
    "        right_pointer -= max(block_size_to_move, 1)\n",
    "\n",
    "\n",
    "# print_memory(memory_p2)\n"
   ]
  },
  {
   "cell_type": "code",
   "execution_count": null,
   "metadata": {},
   "outputs": [],
   "source": [
    "pos = 0\n",
    "hash = 0\n",
    "for m in memory_p2:\n",
    "    if m != -1:\n",
    "        hash = hash + (pos * m)\n",
    "    pos += 1\n",
    "hash"
   ]
  }
 ],
 "metadata": {
  "kernelspec": {
   "display_name": ".venv",
   "language": "python",
   "name": "python3"
  },
  "language_info": {
   "codemirror_mode": {
    "name": "ipython",
    "version": 3
   },
   "file_extension": ".py",
   "mimetype": "text/x-python",
   "name": "python",
   "nbconvert_exporter": "python",
   "pygments_lexer": "ipython3",
   "version": "3.13.0"
  }
 },
 "nbformat": 4,
 "nbformat_minor": 2
}
