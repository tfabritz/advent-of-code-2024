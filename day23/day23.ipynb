{
 "cells": [
  {
   "cell_type": "code",
   "execution_count": 1,
   "metadata": {},
   "outputs": [],
   "source": [
    "import networkx as nx"
   ]
  },
  {
   "cell_type": "code",
   "execution_count": null,
   "metadata": {},
   "outputs": [],
   "source": [
    "with open(\"input-example.txt\") as f:\n",
    "    lines = f.readlines()\n",
    "lines = [l.strip() for l in lines]\n",
    "lines[:5]"
   ]
  },
  {
   "cell_type": "code",
   "execution_count": 3,
   "metadata": {},
   "outputs": [],
   "source": [
    "edges = {}\n",
    "for line in lines:\n",
    "    n1 = line.split(\"-\")[0]\n",
    "    n2 = line.split(\"-\")[1]\n",
    "    if n1 not in edges:\n",
    "        edges[n1] = set()\n",
    "    if n2 not in edges:\n",
    "        edges[n2] = set()\n",
    "    edges[n1].add(n2)\n",
    "    edges[n2].add(n1)\n",
    "# edges"
   ]
  },
  {
   "cell_type": "code",
   "execution_count": 4,
   "metadata": {},
   "outputs": [],
   "source": [
    "def search_three_connected(node, edges):\n",
    "    expanded_list = [[node]]\n",
    "    for _ in range(3):\n",
    "        tmp_expanded_list = []\n",
    "        for el in expanded_list:\n",
    "            for e in edges[el[-1]]:\n",
    "                tl = el + [e]\n",
    "                tmp_expanded_list.append(tl)\n",
    "        expanded_list = tmp_expanded_list\n",
    "\n",
    "    return expanded_list\n",
    "\n",
    "\n",
    "# search_three_connected(\"aq\", edges)"
   ]
  },
  {
   "cell_type": "code",
   "execution_count": 5,
   "metadata": {},
   "outputs": [],
   "source": [
    "# expanded_list = search_three_connected(\"aq\", edges)\n",
    "# {tuple(sorted(l[:3])) for l in expanded_list if l[0]==l[-1] and len(set(l)) == 3}"
   ]
  },
  {
   "cell_type": "code",
   "execution_count": null,
   "metadata": {},
   "outputs": [],
   "source": [
    "three_connected_nodes = set()\n",
    "for node in edges.keys():\n",
    "    expanded_list = search_three_connected(node, edges)\n",
    "    expanded_uniques = {\n",
    "        tuple(sorted(l[:3]))\n",
    "        for l in expanded_list\n",
    "        if l[0] == l[-1] and len(set(l)) == 3\n",
    "    }\n",
    "    for eu in expanded_uniques:\n",
    "        three_connected_nodes.add(eu)\n",
    "\n",
    "\n",
    "cnt = 0\n",
    "for tcn in three_connected_nodes:\n",
    "    for n in tcn:\n",
    "        if n.startswith(\"t\"):\n",
    "            cnt += 1\n",
    "            break\n",
    "cnt"
   ]
  },
  {
   "cell_type": "code",
   "execution_count": 7,
   "metadata": {},
   "outputs": [],
   "source": [
    "# part 2"
   ]
  },
  {
   "cell_type": "code",
   "execution_count": 8,
   "metadata": {},
   "outputs": [],
   "source": [
    "# https://en.wikipedia.org/wiki/Bron–Kerbosch_algorithm\n",
    "\n",
    "# this works for the example, it is way too slow for the input\n",
    "# I was too lazy to implement the optimizations and resorted to using a graph lib\n",
    "\n",
    "def bron_kerbosch_1(r: set, p: set, x: set, cliques: set):\n",
    "    # print(r,p,x)\n",
    "    if len(p) == 0 and len(x) == 0:\n",
    "        cliques.add(tuple(sorted(list(r))))\n",
    "\n",
    "    for v in p:\n",
    "        bron_kerbosch_1(\n",
    "            r.union(set([v])),\n",
    "            p.intersection(edges[v]),\n",
    "            x.intersection(edges[v]),\n",
    "            cliques,\n",
    "        )\n",
    "        p = p.difference(set[v])\n",
    "        x = x.union(set[v])\n",
    "\n",
    "\n",
    "# cliques = set()\n",
    "# bron_kerbosch_1(set(), set(edges.keys()), set(),cliques)\n",
    "# \",\".join(sorted(list(cliques), key=lambda x:len(x), reverse=True)[0])"
   ]
  },
  {
   "cell_type": "code",
   "execution_count": 9,
   "metadata": {},
   "outputs": [],
   "source": [
    "G = nx.Graph()\n",
    "for n in edges.keys():\n",
    "    G.add_node(n)\n",
    "    for e in edges[n]:\n",
    "        G.add_edge(n, e)"
   ]
  },
  {
   "cell_type": "code",
   "execution_count": null,
   "metadata": {},
   "outputs": [],
   "source": [
    "\",\".join(\n",
    "    sorted(sorted(list(nx.find_cliques(G)), key=lambda x: len(x), reverse=True)[0])\n",
    ")"
   ]
  }
 ],
 "metadata": {
  "kernelspec": {
   "display_name": ".venv",
   "language": "python",
   "name": "python3"
  },
  "language_info": {
   "codemirror_mode": {
    "name": "ipython",
    "version": 3
   },
   "file_extension": ".py",
   "mimetype": "text/x-python",
   "name": "python",
   "nbconvert_exporter": "python",
   "pygments_lexer": "ipython3",
   "version": "3.13.1"
  }
 },
 "nbformat": 4,
 "nbformat_minor": 2
}
