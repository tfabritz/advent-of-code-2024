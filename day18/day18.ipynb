{
 "cells": [
  {
   "cell_type": "code",
   "execution_count": 1,
   "metadata": {},
   "outputs": [],
   "source": [
    "import heapq"
   ]
  },
  {
   "cell_type": "code",
   "execution_count": null,
   "metadata": {},
   "outputs": [],
   "source": [
    "with open(\"input-example.txt\") as f:\n",
    "    lines = f.readlines()\n",
    "lines = [l.strip() for l in lines]\n",
    "lines[:5]"
   ]
  },
  {
   "cell_type": "code",
   "execution_count": null,
   "metadata": {},
   "outputs": [],
   "source": [
    "inc_bytes = []\n",
    "for l in lines:\n",
    "    b = l.split(\",\")\n",
    "    inc_bytes.append((int(b[0]), int(b[1])))\n",
    "inc_bytes[:3]"
   ]
  },
  {
   "cell_type": "code",
   "execution_count": 4,
   "metadata": {},
   "outputs": [],
   "source": [
    "dirs = [(-1, 0), (0, 1), (1, 0), (0, -1)]\n",
    "\n",
    "# Get dirs to turn to (180 makes no sense)\n",
    "turn_dict = {\n",
    "    (-1, 0): [(0, -1), (0, 1)],\n",
    "    (0, 1): [(-1, 0), (1, 0)],\n",
    "    (1, 0): [(0, 1), (0, -1)],\n",
    "    (0, -1): [(1, 0), (-1, 0)],\n",
    "}\n",
    "\n",
    "\n",
    "def walk(pos, dir):\n",
    "    return (pos[0] + dir[0], pos[1] + dir[1])\n",
    "\n",
    "\n",
    "def in_bounds(pos, field):\n",
    "    return (\n",
    "        pos[0] >= 0 and pos[0] < len(field) and pos[1] >= 0 and pos[1] < len(field[0])\n",
    "    )\n",
    "\n",
    "\n",
    "def print_field(\n",
    "    field,\n",
    "):\n",
    "    i = 0\n",
    "    for l in field:\n",
    "        j = 0\n",
    "        for p in l:\n",
    "            print(p, end=\"\")\n",
    "            j += 1\n",
    "        print()\n",
    "        i += 1"
   ]
  },
  {
   "cell_type": "code",
   "execution_count": null,
   "metadata": {},
   "outputs": [],
   "source": [
    "width, height = (7, 7)\n",
    "falling_bytes = 12\n",
    "\n",
    "# uncomment for full input\n",
    "# width, height = (71,71)\n",
    "# falling_bytes = 1024\n",
    "\n",
    "field = []\n",
    "for i in range(0, height):\n",
    "    l = []\n",
    "    for j in range(0, width):\n",
    "        l.append(\".\")\n",
    "    field.append(l)\n",
    "\n",
    "\n",
    "i = 0\n",
    "for b in inc_bytes:\n",
    "    if i >= falling_bytes:\n",
    "        break\n",
    "    # print(b)\n",
    "    field[b[1]][b[0]] = \"#\"\n",
    "\n",
    "    i += 1\n",
    "print_field(field)"
   ]
  },
  {
   "cell_type": "code",
   "execution_count": 6,
   "metadata": {},
   "outputs": [],
   "source": [
    "start_node = (0, 0)\n",
    "target_node = (height - 1, width - 1)\n",
    "\n",
    "visited_nodes = set()"
   ]
  },
  {
   "cell_type": "code",
   "execution_count": 7,
   "metadata": {},
   "outputs": [],
   "source": [
    "def dijkstra(start, target, field):\n",
    "    priority_queue = []\n",
    "    heapq.heappush(priority_queue, (0, start))\n",
    "    prev_nodes = {}\n",
    "    distances = {}\n",
    "\n",
    "    distances[start] = 0\n",
    "    prev_nodes[start] = None\n",
    "    visited_nodes = set()\n",
    "\n",
    "    while priority_queue:\n",
    "        current_distance, current_node = heapq.heappop(priority_queue)\n",
    "        visited_nodes.add(current_node)\n",
    "        if current_node == target:\n",
    "            break\n",
    "\n",
    "        if current_distance > distances.get(current_node, float(\"inf\")):\n",
    "            continue\n",
    "\n",
    "        # Get neighbours\n",
    "        neighbours = []\n",
    "        # print(current_node)\n",
    "        for dir in dirs:\n",
    "            next_node = walk(current_node, dir)\n",
    "            if (\n",
    "                in_bounds(next_node, field)\n",
    "                and field[next_node[0]][next_node[1]] != \"#\"\n",
    "                and next_node not in visited_nodes\n",
    "            ):\n",
    "                neighbours.append((1, next_node))\n",
    "\n",
    "        for weight, neighbor in neighbours:\n",
    "            distance = current_distance + weight\n",
    "            if distance < distances.get(neighbor, float(\"inf\")):\n",
    "                distances[neighbor] = distance\n",
    "                prev_nodes[neighbor] = current_node\n",
    "                heapq.heappush(priority_queue, (distance, neighbor))\n",
    "\n",
    "    return distances, prev_nodes\n",
    "\n",
    "\n",
    "distances, prev_nodes = dijkstra(start_node, target_node, field)\n",
    "# print(distances, prev_nodes)"
   ]
  },
  {
   "cell_type": "code",
   "execution_count": null,
   "metadata": {},
   "outputs": [],
   "source": [
    "distances[target_node]"
   ]
  },
  {
   "cell_type": "code",
   "execution_count": 9,
   "metadata": {},
   "outputs": [],
   "source": [
    "# part 2"
   ]
  },
  {
   "cell_type": "code",
   "execution_count": null,
   "metadata": {},
   "outputs": [],
   "source": [
    "# Do dijkstra after each fallen byte and check if there is a distance to the target\n",
    "# If not, the path is blocked\n",
    "# This is not optimal at all but still fast enough\n",
    "\n",
    "width, height = (7, 7)\n",
    "falling_bytes = 12\n",
    "\n",
    "# uncomment for full input\n",
    "# width, height = (71,71)\n",
    "# falling_bytes = 1024\n",
    "\n",
    "field = []\n",
    "for i in range(0, height):\n",
    "    l = []\n",
    "    for j in range(0, width):\n",
    "        l.append(\".\")\n",
    "    field.append(l)\n",
    "\n",
    "i = 0\n",
    "for b in inc_bytes:\n",
    "    if i >= falling_bytes:\n",
    "        break\n",
    "    # print(b)\n",
    "    field[b[1]][b[0]] = \"#\"\n",
    "\n",
    "    i += 1\n",
    "# print_field(field)\n",
    "\n",
    "for falling_bytes_ext in range(falling_bytes, len(inc_bytes) - 1):\n",
    "    fb = inc_bytes[falling_bytes_ext]\n",
    "    # print(\"Adding \", fb)\n",
    "    \n",
    "    field[fb[1]][fb[0]] = \"#\"\n",
    "    distances, prev_nodes = dijkstra(start_node, target_node, field)\n",
    "\n",
    "    if not distances.get(target_node):\n",
    "        print(inc_bytes[falling_bytes_ext])\n",
    "        break"
   ]
  }
 ],
 "metadata": {
  "kernelspec": {
   "display_name": ".venv",
   "language": "python",
   "name": "python3"
  },
  "language_info": {
   "codemirror_mode": {
    "name": "ipython",
    "version": 3
   },
   "file_extension": ".py",
   "mimetype": "text/x-python",
   "name": "python",
   "nbconvert_exporter": "python",
   "pygments_lexer": "ipython3",
   "version": "3.13.1"
  }
 },
 "nbformat": 4,
 "nbformat_minor": 2
}
