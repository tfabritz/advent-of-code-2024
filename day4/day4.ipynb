{
 "cells": [
  {
   "cell_type": "code",
   "execution_count": null,
   "metadata": {},
   "outputs": [],
   "source": []
  },
  {
   "cell_type": "code",
   "execution_count": null,
   "metadata": {},
   "outputs": [],
   "source": [
    "with open(\"input-example.txt\") as f:\n",
    "    lines = f.readlines()\n",
    "lines = [l.strip() for l in lines]\n",
    "lines[:6]"
   ]
  },
  {
   "cell_type": "code",
   "execution_count": 7,
   "metadata": {},
   "outputs": [],
   "source": [
    "directions = [(1, 0), (-1, 0), (0, 1), (0, -1), (1, 1), (-1, 1), (1, -1), (-1, -1)]\n",
    "word = 'XMAS'"
   ]
  },
  {
   "cell_type": "code",
   "execution_count": null,
   "metadata": {},
   "outputs": [],
   "source": [
    "found_counter = 0\n",
    "for i in range(0, len(lines)):\n",
    "    for j in range(0, len(lines[i])):\n",
    "        # print(f\"({i}, {j})\")\n",
    "        # early skip if first char is wrong\n",
    "        if lines[i][j] != word[0]:\n",
    "            continue \n",
    "        for direction in directions:\n",
    "            check_coords = (i,j)\n",
    "            for x in range(0,4):\n",
    "                # print(f\"{x} {direction} {check_coords}: {lines[check_coords[0]][check_coords[1]]}\")\n",
    "                if lines[check_coords[0]][check_coords[1]] != word[x]:\n",
    "                    break \n",
    "                if x == 3:\n",
    "                    # print(\"found\")\n",
    "                    found_counter += 1\n",
    "                check_coords = (check_coords[0] + direction[0], check_coords[1] + direction[1])\n",
    "                if check_coords[0] < 0 or check_coords[0] >= len(lines) or check_coords[1] < 0 or check_coords[1] >= len(lines[i]):\n",
    "                    break \n",
    "                \n",
    "found_counter\n",
    "\n"
   ]
  },
  {
   "cell_type": "code",
   "execution_count": 9,
   "metadata": {},
   "outputs": [],
   "source": [
    "# part 2"
   ]
  },
  {
   "cell_type": "code",
   "execution_count": null,
   "metadata": {},
   "outputs": [],
   "source": [
    "found_counter = 0\n",
    "for i in range(0, len(lines)):\n",
    "    for j in range(0, len(lines[i])):\n",
    "        if lines[i][j] != 'A' or i == 0 or i == len(lines)-1 or j == 0 or j == len(lines[0])-1:\n",
    "            continue \n",
    "        # print(f\"({i},{j})\")\n",
    "        diag1 = (lines[i-1][j-1] == 'M' and lines[i+1][j+1] == 'S') or (lines[i-1][j-1] == 'S' and lines[i+1][j+1] == 'M')\n",
    "        diag2 = (lines[i+1][j-1] == 'M' and lines[i-1][j+1] == 'S') or (lines[i+1][j-1] == 'S' and lines[i-1][j+1] == 'M')\n",
    "        if diag1 and diag2:\n",
    "            found_counter +=1 \n",
    "        \n",
    "                \n",
    "found_counter"
   ]
  }
 ],
 "metadata": {
  "kernelspec": {
   "display_name": ".venv",
   "language": "python",
   "name": "python3"
  },
  "language_info": {
   "codemirror_mode": {
    "name": "ipython",
    "version": 3
   },
   "file_extension": ".py",
   "mimetype": "text/x-python",
   "name": "python",
   "nbconvert_exporter": "python",
   "pygments_lexer": "ipython3",
   "version": "3.13.1"
  }
 },
 "nbformat": 4,
 "nbformat_minor": 2
}
