{
 "cells": [
  {
   "cell_type": "code",
   "execution_count": null,
   "metadata": {},
   "outputs": [],
   "source": []
  },
  {
   "cell_type": "code",
   "execution_count": null,
   "metadata": {},
   "outputs": [],
   "source": [
    "with open(\"input.txt\") as f:\n",
    "    lines = f.readlines()\n",
    "lines = [l.strip() for l in lines]\n",
    "lines[:5]"
   ]
  },
  {
   "cell_type": "code",
   "execution_count": 2,
   "metadata": {},
   "outputs": [],
   "source": [
    "page_order_dict = {}\n",
    "print_orders = []\n",
    "\n",
    "first = True \n",
    "for line in lines:\n",
    "    if len(line) == 0:\n",
    "        first = False \n",
    "        continue \n",
    "\n",
    "    if first:\n",
    "        spl = [int(i) for i in line.split(\"|\")]\n",
    "        if spl[0] not in page_order_dict:\n",
    "            page_order_dict[spl[0]] = set([spl[1]])\n",
    "        else:\n",
    "            page_order_dict[spl[0]].add(spl[1])\n",
    "    else:\n",
    "        print_orders.append([int(i) for i in line.split(\",\")])"
   ]
  },
  {
   "cell_type": "code",
   "execution_count": 3,
   "metadata": {},
   "outputs": [],
   "source": [
    "#page_order_dict\n",
    "#print_orders"
   ]
  },
  {
   "cell_type": "code",
   "execution_count": null,
   "metadata": {},
   "outputs": [],
   "source": [
    "# Idea is that if something that has been printed is supposed to appear after the current character, the print order is wrong\n",
    "mid_page_sum = 0\n",
    "for po in print_orders:\n",
    "    already_printed = set()\n",
    "    must_be_printed = set()\n",
    "    correct_order = True\n",
    "    for p in po:\n",
    "        pages_after = page_order_dict.get(p,set())\n",
    "        if already_printed.intersection(pages_after):\n",
    "            correct_order = False \n",
    "            break \n",
    "        already_printed.add(p)\n",
    "    if correct_order:\n",
    "        #print(po)\n",
    "        mid_page_sum += (po[len(po) // 2])\n",
    "\n",
    "mid_page_sum\n",
    "\n"
   ]
  },
  {
   "cell_type": "code",
   "execution_count": 5,
   "metadata": {},
   "outputs": [],
   "source": [
    "# part 2"
   ]
  },
  {
   "cell_type": "code",
   "execution_count": 6,
   "metadata": {},
   "outputs": [],
   "source": [
    "# Idea is to take the number first that is not after any other number in the set, remove that from the list and continue until all numbers are ordered\n",
    "# Only take the numbers of a given printorder though as otherwise circles appear\n",
    "def fix_order(ls):\n",
    "    numbers_left = set(ls)\n",
    "    ordered_numbers = []\n",
    "    page_order_dict_copy = page_order_dict.copy()\n",
    "    page_order_dict_copy = {k: v for k,v in page_order_dict_copy.items() if k in numbers_left}\n",
    "    while numbers_left:\n",
    "        #print(all_numbers)\n",
    "        #print(page_order_dict_copy)\n",
    "        next_number = -1\n",
    "        for n in numbers_left:\n",
    "            after_something_else = False\n",
    "            #print(f\"Testing {n}\")\n",
    "            for ord in page_order_dict_copy.values():\n",
    "                if n in ord:\n",
    "                    #print(f\"{n} in {ord}\")\n",
    "                    after_something_else = True \n",
    "                    break \n",
    "            if not after_something_else:\n",
    "                next_number = n \n",
    "                #print(f\"Next_number: {next_number}\")\n",
    "                break \n",
    "        ordered_numbers.append(next_number)\n",
    "        page_order_dict_copy = {k: v for k,v in page_order_dict_copy.items() if k != next_number}\n",
    "        numbers_left = numbers_left.difference(set([next_number]))\n",
    "\n",
    "    return ordered_numbers\n"
   ]
  },
  {
   "cell_type": "code",
   "execution_count": null,
   "metadata": {},
   "outputs": [],
   "source": [
    "mid_page_sum = 0\n",
    "for po in print_orders:\n",
    "    already_printed = set()\n",
    "    must_be_printed = set()\n",
    "    correct_order = True\n",
    "    for p in po:\n",
    "        pages_after = page_order_dict.get(p,set())\n",
    "        if already_printed.intersection(pages_after):\n",
    "            correct_order = False \n",
    "            break \n",
    "        already_printed.add(p)\n",
    "    if not correct_order:\n",
    "        #print(po)\n",
    "        new_list = fix_order(po)\n",
    "        #print(new_list)\n",
    "        mid_page_sum += (new_list[len(new_list) // 2])\n",
    "\n",
    "mid_page_sum\n",
    "\n"
   ]
  }
 ],
 "metadata": {
  "kernelspec": {
   "display_name": ".venv",
   "language": "python",
   "name": "python3"
  },
  "language_info": {
   "codemirror_mode": {
    "name": "ipython",
    "version": 3
   },
   "file_extension": ".py",
   "mimetype": "text/x-python",
   "name": "python",
   "nbconvert_exporter": "python",
   "pygments_lexer": "ipython3",
   "version": "3.13.1"
  }
 },
 "nbformat": 4,
 "nbformat_minor": 2
}
