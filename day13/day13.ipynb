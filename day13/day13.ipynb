{
 "cells": [
  {
   "cell_type": "code",
   "execution_count": 1,
   "metadata": {},
   "outputs": [],
   "source": [
    "import re\n",
    "from functools import cache\n",
    "from sympy import symbols, Eq, solve"
   ]
  },
  {
   "cell_type": "code",
   "execution_count": null,
   "metadata": {},
   "outputs": [],
   "source": [
    "with open(\"input.txt\") as f:\n",
    "    lines = f.readlines()\n",
    "lines = [l.strip() for l in lines]\n",
    "lines[:5]"
   ]
  },
  {
   "cell_type": "code",
   "execution_count": 3,
   "metadata": {},
   "outputs": [],
   "source": [
    "# parse games\n",
    "games = []\n",
    "for i in range(0, len(lines), 4):\n",
    "    game = {}\n",
    "    button_a = (\n",
    "        int(re.findall(r\"X\\+(\\d+)\", lines[i])[0]),\n",
    "        int(re.findall(r\"Y\\+(\\d+)\", lines[i])[0]),\n",
    "    )\n",
    "    button_b = (\n",
    "        int(re.findall(r\"X\\+(\\d+)\", lines[i + 1])[0]),\n",
    "        int(re.findall(r\"Y\\+(\\d+)\", lines[i + 1])[0]),\n",
    "    )\n",
    "    target = (\n",
    "        int(re.findall(r\"X=(\\d+)\", lines[i + 2])[0]),\n",
    "        int(re.findall(r\"Y=(\\d+)\", lines[i + 2])[0]),\n",
    "    )\n",
    "    # game[\"a\"] = button_a\n",
    "    # game[\"b\"] = button_b\n",
    "    # game[\"target\"] = target\n",
    "    # print(game)\n",
    "    games.append((button_a, button_b, target))\n",
    "# games"
   ]
  },
  {
   "cell_type": "code",
   "execution_count": 4,
   "metadata": {},
   "outputs": [],
   "source": [
    "# button a: 3 tokens\n",
    "# button b: 1 token"
   ]
  },
  {
   "cell_type": "code",
   "execution_count": 5,
   "metadata": {},
   "outputs": [],
   "source": [
    "# When having a hammer, everything looks like a nail I guess, so I didnt bother with maths first and did some recursive search with cache\n",
    "@cache\n",
    "def search_min_tokens(game, curr_tokens, curr_state, button_presses):\n",
    "    # print(game, curr_tokens, curr_state, button_presses)\n",
    "    if (\n",
    "        curr_state[0] > game[2][0]\n",
    "        or curr_state[1] > game[2][1]\n",
    "        or button_presses[0] > 100\n",
    "        or button_presses[1] > 100\n",
    "    ):\n",
    "        return None\n",
    "\n",
    "    if curr_state[0] == game[2][0] and curr_state[1] == game[2][1]:\n",
    "        return curr_tokens\n",
    "\n",
    "    press_a = search_min_tokens(\n",
    "        game,\n",
    "        curr_tokens + 3,\n",
    "        (curr_state[0] + game[0][0], curr_state[1] + game[0][1]),\n",
    "        (button_presses[0] + 1, button_presses[1]),\n",
    "    )\n",
    "\n",
    "    press_b = search_min_tokens(\n",
    "        game,\n",
    "        curr_tokens + 1,\n",
    "        (curr_state[0] + game[1][0], curr_state[1] + game[1][1]),\n",
    "        (button_presses[0], button_presses[1] + 1),\n",
    "    )\n",
    "    # print(press_a, press_b)\n",
    "    if press_a and press_b:\n",
    "        return min(press_a, press_b)\n",
    "    if press_a:\n",
    "        return press_a\n",
    "    if press_b:\n",
    "        return press_b\n",
    "    return None\n",
    "\n",
    "\n",
    "search_min_tokens(games[0], 0, (0, 0), (0, 0))"
   ]
  },
  {
   "cell_type": "code",
   "execution_count": null,
   "metadata": {},
   "outputs": [],
   "source": [
    "game_sum = 0\n",
    "for game in games:\n",
    "    g = search_min_tokens(game, 0, (0, 0), (0, 0))\n",
    "    if g:\n",
    "        game_sum += g\n",
    "game_sum"
   ]
  },
  {
   "cell_type": "code",
   "execution_count": 7,
   "metadata": {},
   "outputs": [],
   "source": [
    "# part 2"
   ]
  },
  {
   "cell_type": "code",
   "execution_count": 8,
   "metadata": {},
   "outputs": [],
   "source": [
    "# Recursion explodes, so use good old maths and a solver\n",
    "# target_x = button_a_x * a + button_b_x * b\n",
    "# target_y = button_a_y * a + button_b_y * b"
   ]
  },
  {
   "cell_type": "code",
   "execution_count": 9,
   "metadata": {},
   "outputs": [],
   "source": [
    "def solve_button_equation(input_data):\n",
    "    (button_a_x, button_a_y), (button_b_x, button_b_y), (target_x, target_y) = (\n",
    "        input_data\n",
    "    )\n",
    "\n",
    "    a, b = symbols(\"a b\", integer=True)\n",
    "\n",
    "    eq1 = Eq(button_a_x * a + button_b_x * b, target_x)\n",
    "    eq2 = Eq(button_a_y * a + button_b_y * b, target_y)\n",
    "\n",
    "    solutions = solve((eq1, eq2))\n",
    "\n",
    "    return solutions"
   ]
  },
  {
   "cell_type": "code",
   "execution_count": null,
   "metadata": {},
   "outputs": [],
   "source": [
    "# Try first part to be sure\n",
    "game_sum = 0\n",
    "a, b = symbols(\"a b\", integer=True)\n",
    "for game in games:\n",
    "    s = solve_button_equation(game)\n",
    "    if s:\n",
    "        game_sum += s[a] * 3 + s[b]\n",
    "game_sum"
   ]
  },
  {
   "cell_type": "code",
   "execution_count": null,
   "metadata": {},
   "outputs": [],
   "source": [
    "# do second part\n",
    "game_sum = 0\n",
    "a, b = symbols(\"a b\", integer=True)\n",
    "for game in games:\n",
    "    game = (\n",
    "        game[0],\n",
    "        game[1],\n",
    "        (game[2][0] + 10000000000000, game[2][1] + 10000000000000),\n",
    "    )\n",
    "    s = solve_button_equation(game)\n",
    "    if s:\n",
    "        game_sum += s[a] * 3 + s[b]\n",
    "game_sum"
   ]
  }
 ],
 "metadata": {
  "kernelspec": {
   "display_name": ".venv",
   "language": "python",
   "name": "python3"
  },
  "language_info": {
   "codemirror_mode": {
    "name": "ipython",
    "version": 3
   },
   "file_extension": ".py",
   "mimetype": "text/x-python",
   "name": "python",
   "nbconvert_exporter": "python",
   "pygments_lexer": "ipython3",
   "version": "3.13.1"
  }
 },
 "nbformat": 4,
 "nbformat_minor": 2
}
