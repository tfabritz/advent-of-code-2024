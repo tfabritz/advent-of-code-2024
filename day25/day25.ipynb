{
 "cells": [
  {
   "cell_type": "code",
   "execution_count": null,
   "metadata": {},
   "outputs": [],
   "source": []
  },
  {
   "cell_type": "code",
   "execution_count": null,
   "metadata": {},
   "outputs": [],
   "source": [
    "with open(\"input.txt\") as f:\n",
    "    lines = f.readlines()\n",
    "lines = [l.strip() for l in lines]\n",
    "lines[:5]"
   ]
  },
  {
   "cell_type": "code",
   "execution_count": 2,
   "metadata": {},
   "outputs": [],
   "source": [
    "fields = []\n",
    "\n",
    "tmp_field = []\n",
    "for line in lines:\n",
    "    if len(line) == 0:\n",
    "        fields.append(tmp_field)\n",
    "        tmp_field = []\n",
    "    else:\n",
    "        tmp_field.append(line)\n",
    "fields.append(tmp_field)"
   ]
  },
  {
   "cell_type": "code",
   "execution_count": 3,
   "metadata": {},
   "outputs": [],
   "source": [
    "keys = []\n",
    "locks = []\n",
    "\n",
    "for field in fields:\n",
    "    is_key = field[0][0] == '.'\n",
    "    pins = []\n",
    "    for i in range(0,len(field[0])):\n",
    "        pin_height = 0\n",
    "        for j in range(len(field)):\n",
    "            if is_key:\n",
    "                if field[j][i] == '.':\n",
    "                    pin_height += 1\n",
    "            else:\n",
    "                if field[j][i] == '#':\n",
    "                    pin_height += 1\n",
    "        if is_key:\n",
    "            pin_height = len(field) - pin_height\n",
    "        pins.append(pin_height-1 )\n",
    "    if is_key:\n",
    "        keys.append(pins)\n",
    "    else:\n",
    "        locks.append(pins)"
   ]
  },
  {
   "cell_type": "code",
   "execution_count": 4,
   "metadata": {},
   "outputs": [],
   "source": [
    "# locks"
   ]
  },
  {
   "cell_type": "code",
   "execution_count": 5,
   "metadata": {},
   "outputs": [],
   "source": [
    "# keys"
   ]
  },
  {
   "cell_type": "code",
   "execution_count": null,
   "metadata": {},
   "outputs": [],
   "source": [
    "lock_height = len(fields[0])\n",
    "\n",
    "matches = 0\n",
    "for lock in locks:\n",
    "    for key in keys:\n",
    "        comb = []\n",
    "        for i in range(0, len(key)):\n",
    "            comb.append((key[i]+lock[i]) < lock_height-1)\n",
    "        if all(comb):\n",
    "            matches +=1\n",
    "        #print(lock, key, all(comb))\n",
    "matches"
   ]
  }
 ],
 "metadata": {
  "kernelspec": {
   "display_name": ".venv",
   "language": "python",
   "name": "python3"
  },
  "language_info": {
   "codemirror_mode": {
    "name": "ipython",
    "version": 3
   },
   "file_extension": ".py",
   "mimetype": "text/x-python",
   "name": "python",
   "nbconvert_exporter": "python",
   "pygments_lexer": "ipython3",
   "version": "3.13.1"
  }
 },
 "nbformat": 4,
 "nbformat_minor": 2
}
