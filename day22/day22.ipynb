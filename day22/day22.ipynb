{
 "cells": [
  {
   "cell_type": "code",
   "execution_count": 1,
   "metadata": {},
   "outputs": [],
   "source": []
  },
  {
   "cell_type": "code",
   "execution_count": null,
   "metadata": {},
   "outputs": [],
   "source": [
    "with open(\"input.txt\") as f:\n",
    "    lines = f.readlines()\n",
    "lines = [l.strip() for l in lines]\n",
    "lines[:5]"
   ]
  },
  {
   "cell_type": "code",
   "execution_count": null,
   "metadata": {},
   "outputs": [],
   "source": [
    "seed_list = [int(l) for l in lines]\n",
    "seed_list[:5]"
   ]
  },
  {
   "cell_type": "code",
   "execution_count": 3,
   "metadata": {},
   "outputs": [],
   "source": [
    "# The operations are all bit shifting\n",
    "# Can probably be optimized and everything could also be ran in parallel on the seeds but since its plenty fast without it, I didn't bother\n",
    "def mix(num1, num2):\n",
    "    return num1 ^ num2 \n",
    "\n",
    "def prune(num):\n",
    "    return num % 16777216\n",
    "\n",
    "def get_next_secret(secret):\n",
    "    tmp = secret << 6 # * 64\n",
    "    secret = mix(secret, tmp)\n",
    "    secret = prune(secret)\n",
    "\n",
    "    tmp = secret >> 5 # int(secret / 32)\n",
    "    secret = mix(secret, tmp)\n",
    "    secret = prune(secret)\n",
    "\n",
    "    tmp = secret * 2048\n",
    "    tmp = prune(mix(tmp, secret))\n",
    "    return tmp\n",
    "\n",
    "\n",
    "def get_nth_secret(secret, n):\n",
    "    for _ in range(n):\n",
    "        secret = get_next_secret(secret)\n",
    "    return secret\n",
    "\n",
    "\n",
    "#get_next_secret(123)\n",
    "#get_nth_secret(1, 2000)"
   ]
  },
  {
   "cell_type": "code",
   "execution_count": null,
   "metadata": {},
   "outputs": [],
   "source": [
    "secret_number_list = [get_nth_secret(n, 2000) for n in seed_list]\n",
    "sum(secret_number_list)"
   ]
  },
  {
   "cell_type": "code",
   "execution_count": 5,
   "metadata": {},
   "outputs": [],
   "source": [
    "# part 2"
   ]
  },
  {
   "cell_type": "code",
   "execution_count": 6,
   "metadata": {},
   "outputs": [],
   "source": [
    "def get_secret_price_change_list(secret, n):\n",
    "    price_change_list = []\n",
    "    last_price = secret % 10\n",
    "    for _ in range(n):\n",
    "        secret = get_next_secret(secret)\n",
    "        price_change_list.append(((secret % 10), (secret % 10) - last_price))\n",
    "        last_price = secret % 10\n",
    "    return price_change_list\n",
    "\n",
    "# get_secret_price_change_list(123, 10)"
   ]
  },
  {
   "cell_type": "code",
   "execution_count": null,
   "metadata": {},
   "outputs": [],
   "source": [
    "secret_price_change_list = [get_secret_price_change_list(s, 2000) for s in seed_list]\n",
    "\n",
    "# Since every combination can only be seen once, iterate over all lists, keep track of sum in dict\n",
    "# When encountering a combination that has been seen for a list, skip using a set\n",
    "combination_prices = {}\n",
    "for ls in secret_price_change_list:\n",
    "    seen_combs = set()\n",
    "    for i in range(3,len(ls)):\n",
    "        comb = (ls[i-3][1],ls[i-2][1],ls[i-1][1],ls[i][1])\n",
    "        # print(comb)\n",
    "        if comb in seen_combs:\n",
    "            continue\n",
    "        if comb not in combination_prices:\n",
    "            combination_prices[comb] = 0\n",
    "        combination_prices[comb] += ls[i][0]\n",
    "        seen_combs.add(comb)\n",
    "# combination_prices\n",
    "\n",
    "# Get the highest price\n",
    "max_price = 0\n",
    "winning_comb = None\n",
    "for k,v in combination_prices.items():\n",
    "    if v > max_price:\n",
    "        max_price = v\n",
    "        winning_comb = k\n",
    "print(winning_comb, max_price)"
   ]
  }
 ],
 "metadata": {
  "kernelspec": {
   "display_name": ".venv",
   "language": "python",
   "name": "python3"
  },
  "language_info": {
   "codemirror_mode": {
    "name": "ipython",
    "version": 3
   },
   "file_extension": ".py",
   "mimetype": "text/x-python",
   "name": "python",
   "nbconvert_exporter": "python",
   "pygments_lexer": "ipython3",
   "version": "3.13.1"
  }
 },
 "nbformat": 4,
 "nbformat_minor": 2
}
